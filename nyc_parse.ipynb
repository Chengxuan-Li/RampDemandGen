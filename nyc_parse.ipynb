{
 "cells": [
  {
   "cell_type": "code",
   "execution_count": null,
   "id": "f27801d0-d1ae-4c30-834d-45a2b0e0a446",
   "metadata": {},
   "outputs": [],
   "source": [
    "import math\n",
    "import pandas as pd\n",
    "import numpy as np\n",
    "import matplotlib.pyplot as plt"
   ]
  },
  {
   "cell_type": "markdown",
   "id": "3033c1bc-1027-4529-8f7c-cc98060de71f",
   "metadata": {},
   "source": [
    "## Read Data\n",
    "Read csv data of 1-min eGauge meterage for 25 homes in NYC"
   ]
  },
  {
   "cell_type": "code",
   "execution_count": null,
   "id": "bbd3135d-4d81-44a8-aa41-1f9b0def5479",
   "metadata": {},
   "outputs": [],
   "source": [
    "nyc = pd.read_csv(\"data/1minute_data_newyork.csv\")\n",
    "metadata = pd.read_csv(\"data/metadata.csv\")\n",
    "metadata = metadata[1:]"
   ]
  },
  {
   "cell_type": "markdown",
   "id": "0cbf5e99-b91d-454b-bac7-44e31ff6c3f5",
   "metadata": {},
   "source": [
    "Parse `nan` values and percentage values"
   ]
  },
  {
   "cell_type": "code",
   "execution_count": null,
   "id": "381a8a65-bf6c-4b58-ad5c-fa7e137a633b",
   "metadata": {},
   "outputs": [],
   "source": [
    "def perc_txt_parse(pc):\n",
    "    pc = str(pc)\n",
    "    if len(pc.split(\"nan\")) >= 2:\n",
    "        return 0\n",
    "    else:\n",
    "        return eval(pc.split(\"%\")[0]) * 0.01"
   ]
  },
  {
   "cell_type": "markdown",
   "id": "2a860fd2-8c36-4406-9991-2437a7b83066",
   "metadata": {},
   "source": [
    "## Preprocessing\n",
    "Select records with >80% `eGauge_1min_data_availability`"
   ]
  },
  {
   "cell_type": "code",
   "execution_count": null,
   "id": "dc98304b-40be-4167-b68b-9bb044a9d637",
   "metadata": {},
   "outputs": [],
   "source": [
    "metadata_sel['dataid'] = metadata_sel['dataid'].astype('int64');\n",
    "metadata_sel = metadata[\n",
    "metadata[\"egauge_1min_data_availability\"].apply(\n",
    "    lambda x: perc_txt_parse(x) > 0.8\n",
    ")]"
   ]
  },
  {
   "cell_type": "markdown",
   "id": "f4726507-49fc-4d9f-be1e-c30d4f87d7b7",
   "metadata": {},
   "source": [
    "## Get Appliances List\n",
    "From the columns of Meterage data and Metadata, the crossover represents the list of all possible appliances in each home"
   ]
  },
  {
   "cell_type": "code",
   "execution_count": null,
   "id": "db72fce2-4dfd-479d-83e2-6d1ca620e408",
   "metadata": {},
   "outputs": [],
   "source": [
    "appliances = nyc_5997.columns[nyc_5997.columns.isin(metadata_sel.columns)]\n",
    "appliances = list(appliances)\n",
    "removable = [\n",
    "    \"dataid\",\n",
    "    \"grid\",\n",
    "    \"solar\",\n",
    "    \"solar2\"\n",
    "]\n",
    "for c in removable:\n",
    "    appliances.remove(c)\n",
    "pd.DataFrame(data={'key': appliances}).to_csv('appliances.csv')\n",
    "appliances = list(pd.read_csv('appliances.csv')['key']) # list of all consumers"
   ]
  },
  {
   "cell_type": "markdown",
   "id": "2eb7905e-a2ca-44cd-942d-47d09a02a35d",
   "metadata": {},
   "source": [
    "## Per-Residence Analysis\n",
    "Class definition to process and analyse meterage and metadata for each household, represented by an instance of the class `Residence`"
   ]
  },
  {
   "cell_type": "code",
   "execution_count": null,
   "id": "31090e94-946e-4d69-b38b-7d9519da8cbf",
   "metadata": {},
   "outputs": [],
   "source": [
    "class Residence:\n",
    "    def __init__(self, _id, all_meterage, all_metadata, _appliances=list(pd.read_csv('appliances.csv')['key'])):\n",
    "        self.meterage = all_meterage[all_meterage['dataid'] == _id]\n",
    "        self.metadata = all_metadata[all_metadata['dataid'] == _id]\n",
    "        self.dataid = _id\n",
    "        self.possible_appliances = _appliances\n",
    "        exapp = []\n",
    "        for app in _appliances:\n",
    "            if self.metadata[app].iloc[0] == 'yes':\n",
    "                exapp.append(app)\n",
    "        self.existing_appliances = exapp\n",
    "        self.meterage['localminute'] = pd.to_datetime(self.meterage['localminute'], format='%Y-%m-%d %H:%M:%S-05')\n",
    "        self.meterage.sort_values('localminute', inplace=True)\n",
    "        self.meterage.reset_index(inplace=True)\n",
    "\n",
    "    def parse_datetime(t): # backup func\n",
    "        return pd.to_datetime(\":\".join(t.split(\":\")[:2]), format='%Y-%m-%d %H:%M')\n",
    "        "
   ]
  },
  {
   "cell_type": "markdown",
   "id": "21d42c9a-bd02-4b2f-acf4-9d9f42b0f4da",
   "metadata": {},
   "source": [
    "## Test Case\n",
    "Test case `r5997` is demonstrated here.\n",
    "```\n",
    "r5997 = Residence(5997, nyc_5997, metadata_sel)\n",
    "r5997.existing_appliances\n",
    "```"
   ]
  },
  {
   "cell_type": "code",
   "execution_count": null,
   "id": "1ca1cecc-f9d8-42be-86b4-57b2d54c9111",
   "metadata": {},
   "outputs": [],
   "source": [
    "r5997 = Residence(5997, nyc_5997, metadata_sel)\n",
    "r5997.existing_appliances"
   ]
  },
  {
   "cell_type": "code",
   "execution_count": null,
   "id": "e31269bc-bc6d-4232-a33e-3410262f1033",
   "metadata": {},
   "outputs": [],
   "source": [
    "r5997.meterage['solar'].iloc[:1440].plot()"
   ]
  },
  {
   "cell_type": "markdown",
   "id": "999bdbc2-cb97-4855-bc7e-83ae6cd8b25a",
   "metadata": {},
   "source": [
    "## Test Case Visualisation\n",
    "Visualisation of each of and the mean of a column of the test case `r5997`"
   ]
  },
  {
   "cell_type": "code",
   "execution_count": null,
   "id": "f461c8fc-882c-41b1-9773-084994330c7d",
   "metadata": {},
   "outputs": [],
   "source": [
    "def parse_load_profiles(p):\n",
    "    import math\n",
    "    n = int(math.floor(p.shape[0] / 1440))\n",
    "    return p[:n*1440].reshape(n, 1440)\n",
    "def pcp(stoch_profiles, stoch_profiles_avg):\n",
    "    plt.figure(figsize=(10, 5))\n",
    "    for n in stoch_profiles:\n",
    "        plt.plot(np.arange(n.shape[0]), n, \"#b0c4de\")\n",
    "        plt.xlabel(\"Time (hours)\")\n",
    "        plt.ylabel(\"Power (W)\")\n",
    "        \n",
    "        #plt.ylim(ymin=0)\n",
    "        # plt.ylim(ymax=5000)\n",
    "        plt.margins(x=0)\n",
    "        plt.margins(y=0)\n",
    "    plt.plot(np.arange(n.shape[0]), stoch_profiles_avg, \"#4169e1\")\n",
    "    plt.xticks(\n",
    "        [0, 240, 480, (60 * 12), (60 * 16), (60 * 20), (60 * 24)],\n",
    "        [0, 4, 8, 12, 16, 20, 24],\n",
    "    )\n",
    "    # plt.savefig('profiles.eps', format='eps', dpi=1000)\n",
    "    plt.show()\n"
   ]
  }
 ],
 "metadata": {
  "kernelspec": {
   "display_name": "Python 3 (ipykernel)",
   "language": "python",
   "name": "python3"
  },
  "language_info": {
   "codemirror_mode": {
    "name": "ipython",
    "version": 3
   },
   "file_extension": ".py",
   "mimetype": "text/x-python",
   "name": "python",
   "nbconvert_exporter": "python",
   "pygments_lexer": "ipython3",
   "version": "3.12.4"
  }
 },
 "nbformat": 4,
 "nbformat_minor": 5
}
