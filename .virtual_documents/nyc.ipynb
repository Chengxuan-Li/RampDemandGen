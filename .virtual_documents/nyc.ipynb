import pandas as pd
import numpy as np
import matplotlib.pyplot as plt


metadata = pd.read_csv("data/metadata.csv")
metadata = metadata[1:]
len(metadata)


metadata_sel = metadata[metadata["active_record"] == "yes"]
len(metadata_sel)


print(metadata_sel.columns)


metadata_sel = metadata[metadata["active_record"] == "yes"]
len(metadata_sel)



