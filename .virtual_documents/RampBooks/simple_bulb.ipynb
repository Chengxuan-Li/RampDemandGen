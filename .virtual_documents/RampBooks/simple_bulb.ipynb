


# importing functions
from ramp import User, UseCase
import pandas as pd





household = User(
    user_name="Household",
    num_users=10,
)





# add_appliance is meth
indoor_bulb = household.add_appliance(
    name="Indoor Light Bulb",  # the name of the appliance
    number=6,  # how many of this appliance each user has in this user category
    power=7,  # the power (in Watt) of each single appliance. RAMP does not deal with units of measures, you should check the consistency of the unit of measures throughout your model
    num_windows=2,  # how many usage time windows throughout the day?
    func_time=120,  # the total usage time of appliances
    func_cycle=10,  # the minimum usage time after a switch on event
    window_1=[0, 30],  # from 24 to 00:30
    window_2=[1170, 1440],  # from 19:30 to 24:00
    random_var_w=0.35,  # Variability of the windows in percentage
    time_fraction_random_variability=0.2,  # randomizes the total time the appliance is on (between 0 and 1)
)


print(household)





# Checking the maximum profile of the appliance and user

max_profile_bulb = pd.DataFrame(indoor_bulb.maximum_profile, columns=["appliance"])
max_profile_user = pd.DataFrame(household.maximum_profile, columns=["household"])

max_profile_bulb.plot()
max_profile_user.plot()





use_case = UseCase(
    users=[
        household
    ],  # A list of all the user categories to be included in the simulation. In this case, we only have household user category
    date_start="2020-01-01",  # starting date of the simulation
    date_end="2020-12-31",  # end date of the simulation
)





whole_year_profile = use_case.generate_daily_load_profiles()


whole_year_profile = pd.DataFrame(
    whole_year_profile, columns=["household"], index=use_case.datetimeindex
)
whole_year_profile.plot()





single_profile = household.generate_single_load_profile(day_type=0)


single_profile = pd.DataFrame(single_profile, columns=["household"])
single_profile.plot()





aggregated_profile = household.generate_aggregated_load_profile(day_type=0)


aggregated_profile = pd.DataFrame(aggregated_profile, columns=["household"])
aggregated_profile.plot()



