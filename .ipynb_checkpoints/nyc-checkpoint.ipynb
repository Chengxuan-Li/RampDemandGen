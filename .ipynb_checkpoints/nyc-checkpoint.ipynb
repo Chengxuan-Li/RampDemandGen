{
 "cells": [
  {
   "cell_type": "code",
   "execution_count": 2,
   "id": "e1fc2807-1bd4-4d7c-8ac4-62368405dce2",
   "metadata": {},
   "outputs": [],
   "source": [
    "import pandas as pd\n",
    "import numpy as np\n",
    "import matplotlib.pyplot as plt"
   ]
  },
  {
   "cell_type": "code",
   "execution_count": 4,
   "id": "9233e152-87e1-4f5f-a47e-57616ebeb5b3",
   "metadata": {},
   "outputs": [],
   "source": [
    "nyc = pd.read_csv(\"data/1minute_data_newyork.csv\")"
   ]
  },
  {
   "cell_type": "code",
   "execution_count": 5,
   "id": "e3ab3641-08c9-43e0-9cea-e8171595ef6c",
   "metadata": {},
   "outputs": [
    {
     "data": {
      "text/plain": [
       "1969"
      ]
     },
     "execution_count": 5,
     "metadata": {},
     "output_type": "execute_result"
    }
   ],
   "source": [
    "metadata = pd.read_csv(\"data/metadata.csv\")\n",
    "metadata = metadata[1:]\n",
    "len(metadata)"
   ]
  },
  {
   "cell_type": "code",
   "execution_count": 6,
   "id": "992e52b0-22a4-4031-9da7-72fbafcf18c0",
   "metadata": {},
   "outputs": [
    {
     "name": "stdout",
     "output_type": "stream",
     "text": [
      "dataid\n",
      "active_record\n",
      "building_type\n",
      "city\n",
      "state\n",
      "egauge_1min_min_time\n",
      "egauge_1min_max_time\n",
      "egauge_1min_data_availability\n",
      "egauge_1s_min_time\n",
      "egauge_1s_max_time\n",
      "egauge_1s_data_availability\n",
      "air1\n",
      "air2\n",
      "air3\n",
      "airwindowunit1\n",
      "aquarium1\n",
      "bathroom1\n",
      "bathroom2\n",
      "bedroom1\n",
      "bedroom2\n",
      "bedroom3\n",
      "bedroom4\n",
      "bedroom5\n",
      "battery1\n",
      "car1\n",
      "car2\n",
      "circpump1\n",
      "clotheswasher1\n",
      "clotheswasher_dryg1\n",
      "diningroom1\n",
      "diningroom2\n",
      "dishwasher1\n",
      "disposal1\n",
      "drye1\n",
      "dryg1\n",
      "freezer1\n",
      "furnace1\n",
      "furnace2\n",
      "garage1\n",
      "garage2\n",
      "grid\n",
      "heater1\n",
      "heater2\n",
      "heater3\n",
      "housefan1\n",
      "icemaker1\n",
      "jacuzzi1\n",
      "kitchen1\n",
      "kitchen2\n",
      "kitchenapp1\n",
      "kitchenapp2\n",
      "lights_plugs1\n",
      "lights_plugs2\n",
      "lights_plugs3\n",
      "lights_plugs4\n",
      "lights_plugs5\n",
      "lights_plugs6\n",
      "livingroom1\n",
      "livingroom2\n",
      "microwave1\n",
      "office1\n",
      "outsidelights_plugs1\n",
      "outsidelights_plugs2\n",
      "oven1\n",
      "oven2\n",
      "pool1\n",
      "pool2\n",
      "poollight1\n",
      "poolpump1\n",
      "pump1\n",
      "range1\n",
      "refrigerator1\n",
      "refrigerator2\n",
      "security1\n",
      "sewerpump1\n",
      "shed1\n",
      "solar\n",
      "solar2\n",
      "sprinkler1\n",
      "sumppump1\n",
      "utilityroom1\n",
      "venthood1\n",
      "waterheater1\n",
      "waterheater2\n",
      "winecooler1\n",
      "wellpump1\n",
      "water_ert_min_time\n",
      "water_ert_max_time\n",
      "water_data_availability\n",
      "gas_ert_min_time\n",
      "gas_ert_max_time\n",
      "gas_data_availability\n",
      "indoor_temp_min_time\n",
      "indoor_temp_max_time\n",
      "indoor_temp_data_availability\n",
      "date_enrolled\n",
      "date_withdrawn\n",
      "house_construction_year\n",
      "total_square_footage\n",
      "first_floor_square_footage\n",
      "second_floor_square_footage\n",
      "third_floor_square_footage\n",
      "half_floor_square_footage\n",
      "lower_level_square_footage\n",
      "pv\n",
      "pv_panel_direction\n",
      "total_amount_of_pv\n",
      "amount_of_south_facing_pv\n",
      "amount_of_west_facing_pv\n",
      "amount_of_east_facing_pv\n",
      "number_of_nests\n",
      "audit_2011\n",
      "audit_2013_2014\n",
      "survey_2011\n",
      "survey_2012\n",
      "survey_2013\n",
      "survey_2014\n",
      "survey_2017\n",
      "survey_2019\n",
      "program_579\n",
      "program_baseline\n",
      "program_energy_internet_demo\n",
      "program_lg_appliance\n",
      "program_verizon\n",
      "program_ccet_group\n",
      "program_civita_group\n",
      "program_shines\n",
      "energy_storage_system\n",
      "energy_storage_system_l1\n",
      "energy_storage_system_l2\n"
     ]
    }
   ],
   "source": [
    "columns = metadata.columns\n",
    "for c in columns:\n",
    "    print(c)"
   ]
  },
  {
   "cell_type": "code",
   "execution_count": 7,
   "id": "5e7e5d26-0ad3-4189-99a2-1871012c32d9",
   "metadata": {},
   "outputs": [
    {
     "data": {
      "text/plain": [
       "0"
      ]
     },
     "execution_count": 7,
     "metadata": {},
     "output_type": "execute_result"
    }
   ],
   "source": [
    "def perc_txt_parse(pc):\n",
    "    pc = str(pc)\n",
    "    if len(pc.split(\"nan\")) >= 2:\n",
    "        return 0\n",
    "    else:\n",
    "        return eval(pc.split(\"%\")[0]) * 0.01\n",
    "perc_txt_parse(\"nan\")"
   ]
  },
  {
   "cell_type": "markdown",
   "id": "33cc934e-a6f1-4dd3-9b2e-1b34a07a8282",
   "metadata": {},
   "source": [
    "## Preprocessing\n",
    "Select records with >80% `eGauge_1min_data_availability`"
   ]
  },
  {
   "cell_type": "code",
   "execution_count": 12,
   "id": "2218ab34-177e-4701-9f66-72c265abbbdd",
   "metadata": {},
   "outputs": [],
   "source": [
    "metadata_sel = metadata[\n",
    "metadata[\"egauge_1min_data_availability\"].apply(\n",
    "    lambda x: perc_txt_parse(x) > 0.8\n",
    ")]"
   ]
  },
  {
   "cell_type": "code",
   "execution_count": 14,
   "id": "387bcd63-2a31-4d0c-a628-f4219c1febf9",
   "metadata": {},
   "outputs": [
    {
     "name": "stderr",
     "output_type": "stream",
     "text": [
      "C:\\Users\\liche\\AppData\\Local\\Temp\\ipykernel_40352\\2104478508.py:1: SettingWithCopyWarning: \n",
      "A value is trying to be set on a copy of a slice from a DataFrame.\n",
      "Try using .loc[row_indexer,col_indexer] = value instead\n",
      "\n",
      "See the caveats in the documentation: https://pandas.pydata.org/pandas-docs/stable/user_guide/indexing.html#returning-a-view-versus-a-copy\n",
      "  metadata_sel['dataid'] = metadata_sel['dataid'].astype('int64');\n"
     ]
    },
    {
     "data": {
      "text/plain": [
       "dtype('int64')"
      ]
     },
     "execution_count": 14,
     "metadata": {},
     "output_type": "execute_result"
    }
   ],
   "source": [
    "metadata_sel['dataid'] = metadata_sel['dataid'].astype('int64');\n",
    "metadata_sel['dataid'].dtype"
   ]
  },
  {
   "cell_type": "code",
   "execution_count": 16,
   "id": "227cfa25-fe38-4416-950b-166bd1afa7cf",
   "metadata": {},
   "outputs": [],
   "source": [
    "nyc_sel = nyc[nyc['dataid'].isin(metadata_sel['dataid'])];"
   ]
  },
  {
   "cell_type": "code",
   "execution_count": 17,
   "id": "e988a193-c95a-4461-b1a9-11d05995d950",
   "metadata": {},
   "outputs": [
    {
     "data": {
      "text/plain": [
       "6359040"
      ]
     },
     "execution_count": 17,
     "metadata": {},
     "output_type": "execute_result"
    }
   ],
   "source": [
    "len(nyc_sel)"
   ]
  },
  {
   "cell_type": "code",
   "execution_count": 20,
   "id": "c55ed6c0-4854-4a2e-95df-d9226f31f301",
   "metadata": {},
   "outputs": [
    {
     "data": {
      "text/plain": [
       "6624000"
      ]
     },
     "execution_count": 20,
     "metadata": {},
     "output_type": "execute_result"
    }
   ],
   "source": [
    "len(nyc)"
   ]
  },
  {
   "cell_type": "code",
   "execution_count": 24,
   "id": "359bde5a-09f5-4e40-94ab-6784f0bf97d5",
   "metadata": {},
   "outputs": [],
   "source": [
    "nyc_5997 = nyc[nyc['dataid'] == 5997]"
   ]
  },
  {
   "cell_type": "code",
   "execution_count": 36,
   "id": "493c3104-9354-40ee-a92b-456ed862a342",
   "metadata": {},
   "outputs": [
    {
     "name": "stdout",
     "output_type": "stream",
     "text": [
      "dataid, localminute, air1, air2, air3, airwindowunit1, aquarium1, bathroom1, bathroom2, bedroom1, bedroom2, bedroom3, bedroom4, bedroom5, battery1, car1, car2, circpump1, clotheswasher1, clotheswasher_dryg1, diningroom1, diningroom2, dishwasher1, disposal1, drye1, dryg1, freezer1, furnace1, furnace2, garage1, garage2, grid, heater1, heater2, heater3, housefan1, icemaker1, jacuzzi1, kitchen1, kitchen2, kitchenapp1, kitchenapp2, lights_plugs1, lights_plugs2, lights_plugs3, lights_plugs4, lights_plugs5, lights_plugs6, livingroom1, livingroom2, microwave1, office1, outsidelights_plugs1, outsidelights_plugs2, oven1, oven2, pool1, pool2, poollight1, poolpump1, pump1, range1, refrigerator1, refrigerator2, security1, sewerpump1, shed1, solar, solar2, sprinkler1, sumppump1, utilityroom1, venthood1, waterheater1, waterheater2, wellpump1, winecooler1, leg1v, leg2v, "
     ]
    }
   ],
   "source": [
    "for c in nyc_5997.columns:\n",
    "    print(c, end=', ')"
   ]
  },
  {
   "cell_type": "code",
   "execution_count": 46,
   "id": "19440513-378a-4245-8429-aa88920b35a1",
   "metadata": {},
   "outputs": [
    {
     "name": "stdout",
     "output_type": "stream",
     "text": [
      "dataid: 5997,  localminute: 2019-06-24 15:55:00-05,  air1: nan,  air2: nan,  air3: nan,  airwindowunit1: nan,  aquarium1: nan,  bathroom1: 0.001,  bathroom2: nan,  bedroom1: nan,  bedroom2: nan,  bedroom3: nan,  bedroom4: nan,  bedroom5: nan,  battery1: nan,  car1: nan,  car2: nan,  circpump1: nan,  clotheswasher1: 0.0,  clotheswasher_dryg1: nan,  diningroom1: nan,  diningroom2: nan,  dishwasher1: 0.0,  disposal1: nan,  drye1: 0.0,  dryg1: nan,  freezer1: nan,  furnace1: nan,  furnace2: nan,  garage1: 0.003,  garage2: nan,  grid: -1.036,  heater1: nan,  heater2: nan,  heater3: nan,  housefan1: nan,  icemaker1: nan,  jacuzzi1: nan,  kitchen1: nan,  kitchen2: nan,  kitchenapp1: 0.002,  kitchenapp2: nan,  lights_plugs1: 0.011,  lights_plugs2: nan,  lights_plugs3: nan,  lights_plugs4: nan,  lights_plugs5: nan,  lights_plugs6: nan,  livingroom1: nan,  livingroom2: nan,  microwave1: 0.001,  office1: nan,  outsidelights_plugs1: nan,  outsidelights_plugs2: nan,  oven1: nan,  oven2: nan,  pool1: nan,  pool2: nan,  poollight1: nan,  poolpump1: nan,  pump1: nan,  range1: nan,  refrigerator1: nan,  refrigerator2: nan,  security1: nan,  sewerpump1: nan,  shed1: nan,  solar: 1.686,  solar2: nan,  sprinkler1: nan,  sumppump1: nan,  utilityroom1: 0.503,  venthood1: nan,  waterheater1: 0.0,  waterheater2: nan,  wellpump1: nan,  winecooler1: nan,  leg1v: 122.046,  leg2v: 122.846,  "
     ]
    }
   ],
   "source": [
    "for c in nyc_5997.columns:\n",
    "    print(c + ': ' + str(nyc_5997.iloc[0][c]), end=',  ')"
   ]
  },
  {
   "cell_type": "code",
   "execution_count": 58,
   "id": "45b764fb-e49b-423a-b19e-4c755d84e46f",
   "metadata": {},
   "outputs": [
    {
     "name": "stdout",
     "output_type": "stream",
     "text": [
      "dataid, active_record, building_type, city, state, egauge_1min_min_time, egauge_1min_max_time, egauge_1min_data_availability, egauge_1s_min_time, egauge_1s_max_time, egauge_1s_data_availability, air1, air2, air3, airwindowunit1, aquarium1, bathroom1, bathroom2, bedroom1, bedroom2, bedroom3, bedroom4, bedroom5, battery1, car1, car2, circpump1, clotheswasher1, clotheswasher_dryg1, diningroom1, diningroom2, dishwasher1, disposal1, drye1, dryg1, freezer1, furnace1, furnace2, garage1, garage2, grid, heater1, heater2, heater3, housefan1, icemaker1, jacuzzi1, kitchen1, kitchen2, kitchenapp1, kitchenapp2, lights_plugs1, lights_plugs2, lights_plugs3, lights_plugs4, lights_plugs5, lights_plugs6, livingroom1, livingroom2, microwave1, office1, outsidelights_plugs1, outsidelights_plugs2, oven1, oven2, pool1, pool2, poollight1, poolpump1, pump1, range1, refrigerator1, refrigerator2, security1, sewerpump1, shed1, solar, solar2, sprinkler1, sumppump1, utilityroom1, venthood1, waterheater1, waterheater2, winecooler1, wellpump1, water_ert_min_time, water_ert_max_time, water_data_availability, gas_ert_min_time, gas_ert_max_time, gas_data_availability, indoor_temp_min_time, indoor_temp_max_time, indoor_temp_data_availability, date_enrolled, date_withdrawn, house_construction_year, total_square_footage, first_floor_square_footage, second_floor_square_footage, third_floor_square_footage, half_floor_square_footage, lower_level_square_footage, pv, pv_panel_direction, total_amount_of_pv, amount_of_south_facing_pv, amount_of_west_facing_pv, amount_of_east_facing_pv, number_of_nests, audit_2011, audit_2013_2014, survey_2011, survey_2012, survey_2013, survey_2014, survey_2017, survey_2019, program_579, program_baseline, program_energy_internet_demo, program_lg_appliance, program_verizon, program_ccet_group, program_civita_group, program_shines, energy_storage_system, energy_storage_system_l1, energy_storage_system_l2, "
     ]
    }
   ],
   "source": [
    "for c in metadata_sel.columns:\n",
    "    print(c, end=', ')"
   ]
  },
  {
   "cell_type": "code",
   "execution_count": null,
   "id": "074a4d16-dfd8-4b3e-b296-eab267c863e2",
   "metadata": {},
   "outputs": [],
   "source": []
  },
  {
   "cell_type": "code",
   "execution_count": 69,
   "id": "c9e85695-24b1-43a6-baab-a7d6d4aa4132",
   "metadata": {},
   "outputs": [
    {
     "data": {
      "text/plain": [
       "1787    yes\n",
       "Name: lights_plugs1, dtype: object"
      ]
     },
     "execution_count": 69,
     "metadata": {},
     "output_type": "execute_result"
    }
   ],
   "source": [
    "metadata_sel[metadata_sel['dataid'] == 5997]['lights_plugs1']"
   ]
  },
  {
   "cell_type": "code",
   "execution_count": 129,
   "id": "5e5a196e-0491-4279-94e0-30be4ca4bfd0",
   "metadata": {},
   "outputs": [
    {
     "data": {
      "text/plain": [
       "(array([8.6000e+01, 2.3500e+02, 3.1700e+02, 5.9100e+02, 9.0100e+02,\n",
       "        1.2980e+03, 2.0950e+03, 2.6100e+03, 2.9890e+03, 3.3430e+03,\n",
       "        3.4680e+03, 3.6370e+03, 3.5370e+03, 3.0760e+03, 2.8120e+03,\n",
       "        2.4190e+03, 2.1840e+03, 1.9300e+03, 1.6170e+03, 1.5140e+03,\n",
       "        1.3870e+03, 1.3490e+03, 1.4030e+03, 1.3370e+03, 1.1960e+03,\n",
       "        1.2500e+03, 1.2020e+03, 1.1930e+03, 1.1730e+03, 1.1850e+03,\n",
       "        1.1650e+03, 1.1970e+03, 1.3030e+03, 1.4170e+03, 1.4330e+03,\n",
       "        1.5160e+03, 1.7060e+03, 1.7200e+03, 1.8180e+03, 2.1240e+03,\n",
       "        2.1890e+03, 2.4210e+03, 2.4540e+03, 2.5580e+03, 2.9920e+03,\n",
       "        3.6300e+03, 4.4270e+03, 5.9180e+03, 2.3927e+04, 2.5337e+04,\n",
       "        1.4950e+04, 3.2575e+04, 2.9434e+04, 1.0981e+04, 9.7630e+03,\n",
       "        5.9670e+03, 2.6320e+03, 1.5040e+03, 1.4810e+03, 1.1710e+03,\n",
       "        1.1940e+03, 1.1970e+03, 9.0000e+02, 9.9900e+02, 8.8900e+02,\n",
       "        7.8900e+02, 5.6500e+02, 2.8000e+02, 2.5700e+02, 2.5000e+02,\n",
       "        1.9900e+02, 1.8600e+02, 1.8400e+02, 1.8600e+02, 1.8500e+02,\n",
       "        2.0400e+02, 1.9200e+02, 1.4600e+02, 1.6800e+02, 1.4000e+02,\n",
       "        9.5000e+01, 7.1000e+01, 4.4000e+01, 7.5000e+01, 4.6000e+01,\n",
       "        5.2000e+01, 1.0300e+02, 8.4000e+01, 4.9000e+01, 7.4000e+01,\n",
       "        3.1000e+01, 1.6000e+01, 1.1000e+01, 6.0000e+00, 5.0000e+00,\n",
       "        1.1000e+01, 8.0000e+00, 9.0000e+00, 1.4000e+01, 2.0000e+00]),\n",
       " array([-7.453  , -7.29586, -7.13872, -6.98158, -6.82444, -6.6673 ,\n",
       "        -6.51016, -6.35302, -6.19588, -6.03874, -5.8816 , -5.72446,\n",
       "        -5.56732, -5.41018, -5.25304, -5.0959 , -4.93876, -4.78162,\n",
       "        -4.62448, -4.46734, -4.3102 , -4.15306, -3.99592, -3.83878,\n",
       "        -3.68164, -3.5245 , -3.36736, -3.21022, -3.05308, -2.89594,\n",
       "        -2.7388 , -2.58166, -2.42452, -2.26738, -2.11024, -1.9531 ,\n",
       "        -1.79596, -1.63882, -1.48168, -1.32454, -1.1674 , -1.01026,\n",
       "        -0.85312, -0.69598, -0.53884, -0.3817 , -0.22456, -0.06742,\n",
       "         0.08972,  0.24686,  0.404  ,  0.56114,  0.71828,  0.87542,\n",
       "         1.03256,  1.1897 ,  1.34684,  1.50398,  1.66112,  1.81826,\n",
       "         1.9754 ,  2.13254,  2.28968,  2.44682,  2.60396,  2.7611 ,\n",
       "         2.91824,  3.07538,  3.23252,  3.38966,  3.5468 ,  3.70394,\n",
       "         3.86108,  4.01822,  4.17536,  4.3325 ,  4.48964,  4.64678,\n",
       "         4.80392,  4.96106,  5.1182 ,  5.27534,  5.43248,  5.58962,\n",
       "         5.74676,  5.9039 ,  6.06104,  6.21818,  6.37532,  6.53246,\n",
       "         6.6896 ,  6.84674,  7.00388,  7.16102,  7.31816,  7.4753 ,\n",
       "         7.63244,  7.78958,  7.94672,  8.10386,  8.261  ]),\n",
       " <BarContainer object of 100 artists>)"
      ]
     },
     "execution_count": 129,
     "metadata": {},
     "output_type": "execute_result"
    },
    {
     "data": {
      "image/png": "[encoded data removed]",
      "text/plain": [
       "<Figure size 640x480 with 1 Axes>"
      ]
     },
     "metadata": {},
     "output_type": "display_data"
    }
   ],
   "source": [
    "plt.hist(nyc_5997['grid'], bins=100)"
   ]
  },
  {
   "cell_type": "code",
   "execution_count": 109,
   "id": "afed948d-8663-4b38-9bf3-c8fb3bd63619",
   "metadata": {},
   "outputs": [
    {
     "data": {
      "text/plain": [
       "0          0.011\n",
       "52         0.012\n",
       "53         0.012\n",
       "54         0.011\n",
       "55         0.011\n",
       "           ...  \n",
       "6623543    0.051\n",
       "6623544    0.057\n",
       "6623545    0.059\n",
       "6623546    0.054\n",
       "6623547    0.055\n",
       "Name: lights_plugs1, Length: 264960, dtype: float64"
      ]
     },
     "execution_count": 109,
     "metadata": {},
     "output_type": "execute_result"
    }
   ],
   "source": [
    "nyc_5997['lights_plugs1']"
   ]
  },
  {
   "cell_type": "code",
   "execution_count": 60,
   "id": "8c9e69ee-74e6-4d1f-ad3c-f4508a22c627",
   "metadata": {},
   "outputs": [
    {
     "data": {
      "text/plain": [
       "array([ True, False,  True,  True,  True,  True,  True,  True,  True,\n",
       "        True,  True,  True,  True,  True,  True,  True,  True,  True,\n",
       "        True,  True,  True,  True,  True,  True,  True,  True,  True,\n",
       "        True,  True,  True,  True,  True,  True,  True,  True,  True,\n",
       "        True,  True,  True,  True,  True,  True,  True,  True,  True,\n",
       "        True,  True,  True,  True,  True,  True,  True,  True,  True,\n",
       "        True,  True,  True,  True,  True,  True,  True,  True,  True,\n",
       "        True,  True,  True,  True,  True,  True,  True,  True,  True,\n",
       "        True,  True,  True,  True,  True, False, False])"
      ]
     },
     "execution_count": 60,
     "metadata": {},
     "output_type": "execute_result"
    }
   ],
   "source": [
    "nyc_5997.columns.isin(metadata_sel.columns)"
   ]
  },
  {
   "cell_type": "code",
   "execution_count": 399,
   "id": "658a694e-e8b8-4412-8439-269faf8666f6",
   "metadata": {},
   "outputs": [],
   "source": [
    "appliances = nyc_5997.columns[nyc_5997.columns.isin(metadata_sel.columns)]\n",
    "appliances = list(appliances)\n",
    "removable = [\n",
    "    \"dataid\",\n",
    "    \"grid\",\n",
    "    \"solar\",\n",
    "    \"solar2\"\n",
    "]\n",
    "for c in removable:\n",
    "    appliances.remove(c)\n",
    "pd.DataFrame(data={'key': appliances}).to_csv('appliances.csv')\n",
    "appliances = list(pd.read_csv('appliances.csv')['key']) # list of all consumers"
   ]
  },
  {
   "cell_type": "code",
   "execution_count": 401,
   "id": "dc0281ae-4762-40d7-9dbd-44d3084dd0bb",
   "metadata": {},
   "outputs": [
    {
     "data": {
      "text/plain": [
       "['bathroom1',\n",
       " 'clotheswasher1',\n",
       " 'dishwasher1',\n",
       " 'drye1',\n",
       " 'garage1',\n",
       " 'kitchenapp1',\n",
       " 'lights_plugs1',\n",
       " 'microwave1',\n",
       " 'utilityroom1',\n",
       " 'waterheater1']"
      ]
     },
     "execution_count": 401,
     "metadata": {},
     "output_type": "execute_result"
    }
   ],
   "source": [
    "class Residence:\n",
    "    def __init__(self, _id, all_meterage, all_metadata, _appliances=list(pd.read_csv('appliances.csv')['key'])):\n",
    "        self.meterage = all_meterage[all_meterage['dataid'] == _id]\n",
    "        self.metadata = all_metadata[all_metadata['dataid'] == _id]\n",
    "        self.dataid = _id\n",
    "        self.possible_appliances = _appliances\n",
    "        exapp = []\n",
    "        for app in _appliances:\n",
    "            if self.metadata[app].iloc[0] == 'yes':\n",
    "                exapp.append(app)\n",
    "        self.existing_appliances = exapp\n",
    "        self.meterage['localminute'] = pd.to_datetime(self.meterage['localminute'], format='%Y-%m-%d %H:%M:%S-05')\n",
    "        self.meterage.sort_values('localminute', inplace=True)\n",
    "        self.meterage.reset_index(inplace=True)\n",
    "        \n",
    "\n",
    "\n",
    "    def parse_datetime(t): # backup func\n",
    "        return pd.to_datetime(\":\".join(t.split(\":\")[:2]), format='%Y-%m-%d %H:%M')\n",
    "        \n",
    "        \n",
    "r5997 = Residence(5997, nyc_5997, metadata_sel)\n",
    "r5997.existing_appliances"
   ]
  },
  {
   "cell_type": "code",
   "execution_count": 403,
   "id": "a5155611-6a6c-4b6f-ab2f-e7672fc1838f",
   "metadata": {},
   "outputs": [
    {
     "data": {
      "text/plain": [
       "<Axes: >"
      ]
     },
     "execution_count": 403,
     "metadata": {},
     "output_type": "execute_result"
    },
    {
     "data": {
      "image/png": "[encoded data removed]",
      "text/plain": [
       "<Figure size 640x480 with 1 Axes>"
      ]
     },
     "metadata": {},
     "output_type": "display_data"
    }
   ],
   "source": [
    "r5997.meterage['solar'].iloc[:1440].plot()"
   ]
  },
  {
   "cell_type": "code",
   "execution_count": 405,
   "id": "5156787c-a3ae-4b7a-bee4-4e5405c19a66",
   "metadata": {},
   "outputs": [],
   "source": [
    "def parse_load_profiles(p):\n",
    "    import math\n",
    "    n = int(math.floor(p.shape[0] / 1440))\n",
    "    return p[:n*1440].reshape(n, 1440)\n",
    "def pcp(stoch_profiles, stoch_profiles_avg):\n",
    "    plt.figure(figsize=(10, 5))\n",
    "    for n in stoch_profiles:\n",
    "        plt.plot(np.arange(n.shape[0]), n, \"#b0c4de\")\n",
    "        plt.xlabel(\"Time (hours)\")\n",
    "        plt.ylabel(\"Power (W)\")\n",
    "        plt.ylim(ymin=0)\n",
    "        # plt.ylim(ymax=5000)\n",
    "        plt.margins(x=0)\n",
    "        plt.margins(y=0)\n",
    "    plt.plot(np.arange(n.shape[0]), stoch_profiles_avg, \"#4169e1\")\n",
    "    plt.xticks(\n",
    "        [0, 240, 480, (60 * 12), (60 * 16), (60 * 20), (60 * 24)],\n",
    "        [0, 4, 8, 12, 16, 20, 24],\n",
    "    )\n",
    "    # plt.savefig('profiles.eps', format='eps', dpi=1000)\n",
    "    plt.show()\n"
   ]
  },
  {
   "cell_type": "code",
   "execution_count": 407,
   "id": "decb5552-0f68-411a-8d84-1cc9b13b674d",
   "metadata": {},
   "outputs": [
    {
     "data": {
      "image/png": "[encoded data removed]",
      "text/plain": [
       "<Figure size 1000x500 with 1 Axes>"
      ]
     },
     "metadata": {},
     "output_type": "display_data"
    }
   ],
   "source": [
    "a = parse_load_profiles(np.array(r5997.meterage['solar'][:]))\n",
    "pcp(a*60, (a*60).mean(axis=0))"
   ]
  },
  {
   "cell_type": "code",
   "execution_count": 253,
   "id": "fa3c45af-d501-490e-a6b2-064449537a01",
   "metadata": {},
   "outputs": [
    {
     "data": {
      "text/plain": [
       "0         2019-06-24 15:55:00\n",
       "52        2019-06-24 15:59:00\n",
       "53        2019-06-24 15:58:00\n",
       "54        2019-06-24 15:57:00\n",
       "55        2019-06-24 15:56:00\n",
       "                  ...        \n",
       "6623543   2019-10-31 23:04:00\n",
       "6623544   2019-10-31 23:03:00\n",
       "6623545   2019-10-31 23:02:00\n",
       "6623546   2019-10-31 23:01:00\n",
       "6623547   2019-10-31 23:00:00\n",
       "Name: localminute, Length: 264960, dtype: datetime64[ns]"
      ]
     },
     "execution_count": 253,
     "metadata": {},
     "output_type": "execute_result"
    }
   ],
   "source": [
    "def parse_datetime(t):\n",
    "    return pd.to_datetime(\":\".join(t.split(\":\")[:2]),\n",
    "               format='%Y-%m-%d %H:%M')\n",
    "r5997.meterage['localminute'].apply(lambda x: parse_datetime(x))\n"
   ]
  },
  {
   "cell_type": "code",
   "execution_count": 259,
   "id": "9b45175d-ddf9-4e63-9e56-83adfa45207b",
   "metadata": {},
   "outputs": [
    {
     "data": {
      "text/plain": [
       "0         2019-06-24 15:55:00\n",
       "52        2019-06-24 15:59:00\n",
       "53        2019-06-24 15:58:00\n",
       "54        2019-06-24 15:57:00\n",
       "55        2019-06-24 15:56:00\n",
       "                  ...        \n",
       "6623543   2019-10-31 23:04:00\n",
       "6623544   2019-10-31 23:03:00\n",
       "6623545   2019-10-31 23:02:00\n",
       "6623546   2019-10-31 23:01:00\n",
       "6623547   2019-10-31 23:00:00\n",
       "Name: localminute, Length: 264960, dtype: datetime64[ns]"
      ]
     },
     "execution_count": 259,
     "metadata": {},
     "output_type": "execute_result"
    }
   ],
   "source": [
    "pd.to_datetime(r5997.meterage['localminute'], format='%Y-%m-%d %H:%M:%S-05')"
   ]
  },
  {
   "cell_type": "code",
   "execution_count": 247,
   "id": "18dbc032-41ee-42aa-9fab-e7029472f68c",
   "metadata": {},
   "outputs": [
    {
     "data": {
      "text/plain": [
       "Timestamp('2019-06-24 15:55:00')"
      ]
     },
     "execution_count": 247,
     "metadata": {},
     "output_type": "execute_result"
    }
   ],
   "source": []
  },
  {
   "cell_type": "code",
   "execution_count": 56,
   "id": "de9c909e-6d0e-430f-9448-00423c7322e9",
   "metadata": {},
   "outputs": [
    {
     "data": {
      "text/plain": [
       "<Axes: >"
      ]
     },
     "execution_count": 56,
     "metadata": {},
     "output_type": "execute_result"
    },
    {
     "data": {
      "image/png": "[encoded data removed]",
      "text/plain": [
       "<Figure size 640x480 with 1 Axes>"
      ]
     },
     "metadata": {},
     "output_type": "display_data"
    }
   ],
   "source": [
    "nyc_5997.iloc[0:60*72].grid.cumsum().plot()"
   ]
  },
  {
   "cell_type": "code",
   "execution_count": null,
   "id": "38766052-2acc-4874-a2be-a95051e865e9",
   "metadata": {},
   "outputs": [],
   "source": [
    "#metadata_sel = metadata[metadata[\"active_record\"] == \"yes\"]\n",
    "#len(metadata_sel)"
   ]
  },
  {
   "cell_type": "code",
   "execution_count": 29,
   "id": "9b6e5d68-6c62-4d65-841f-aa5011ddeb04",
   "metadata": {},
   "outputs": [
    {
     "data": {
      "text/html": [
       "<div>\n",
       "<style scoped>\n",
       "    .dataframe tbody tr th:only-of-type {\n",
       "        vertical-align: middle;\n",
       "    }\n",
       "\n",
       "    .dataframe tbody tr th {\n",
       "        vertical-align: top;\n",
       "    }\n",
       "\n",
       "    .dataframe thead th {\n",
       "        text-align: right;\n",
       "    }\n",
       "</style>\n",
       "<table border=\"1\" class=\"dataframe\">\n",
       "  <thead>\n",
       "    <tr style=\"text-align: right;\">\n",
       "      <th></th>\n",
       "      <th>dataid</th>\n",
       "      <th>active_record</th>\n",
       "      <th>building_type</th>\n",
       "      <th>city</th>\n",
       "      <th>state</th>\n",
       "      <th>egauge_1min_min_time</th>\n",
       "      <th>egauge_1min_max_time</th>\n",
       "      <th>egauge_1min_data_availability</th>\n",
       "      <th>egauge_1s_min_time</th>\n",
       "      <th>egauge_1s_max_time</th>\n",
       "      <th>...</th>\n",
       "      <th>program_baseline</th>\n",
       "      <th>program_energy_internet_demo</th>\n",
       "      <th>program_lg_appliance</th>\n",
       "      <th>program_verizon</th>\n",
       "      <th>program_ccet_group</th>\n",
       "      <th>program_civita_group</th>\n",
       "      <th>program_shines</th>\n",
       "      <th>energy_storage_system</th>\n",
       "      <th>energy_storage_system_l1</th>\n",
       "      <th>energy_storage_system_l2</th>\n",
       "    </tr>\n",
       "  </thead>\n",
       "  <tbody>\n",
       "    <tr>\n",
       "      <th>35</th>\n",
       "      <td>5180</td>\n",
       "      <td>yes</td>\n",
       "      <td>Single-Family Home 001 (Master)</td>\n",
       "      <td>Portland</td>\n",
       "      <td>Oregon</td>\n",
       "      <td>NaN</td>\n",
       "      <td>NaN</td>\n",
       "      <td>NaN</td>\n",
       "      <td>NaN</td>\n",
       "      <td>NaN</td>\n",
       "      <td>...</td>\n",
       "      <td>NaN</td>\n",
       "      <td>NaN</td>\n",
       "      <td>NaN</td>\n",
       "      <td>NaN</td>\n",
       "      <td>NaN</td>\n",
       "      <td>NaN</td>\n",
       "      <td>NaN</td>\n",
       "      <td>NaN</td>\n",
       "      <td>NaN</td>\n",
       "      <td>NaN</td>\n",
       "    </tr>\n",
       "    <tr>\n",
       "      <th>36</th>\n",
       "      <td>800</td>\n",
       "      <td>yes</td>\n",
       "      <td>Single-Family Home 001 (Master)</td>\n",
       "      <td>Portland</td>\n",
       "      <td>Oregon</td>\n",
       "      <td>NaN</td>\n",
       "      <td>NaN</td>\n",
       "      <td>NaN</td>\n",
       "      <td>NaN</td>\n",
       "      <td>NaN</td>\n",
       "      <td>...</td>\n",
       "      <td>NaN</td>\n",
       "      <td>NaN</td>\n",
       "      <td>NaN</td>\n",
       "      <td>NaN</td>\n",
       "      <td>NaN</td>\n",
       "      <td>NaN</td>\n",
       "      <td>NaN</td>\n",
       "      <td>NaN</td>\n",
       "      <td>NaN</td>\n",
       "      <td>NaN</td>\n",
       "    </tr>\n",
       "    <tr>\n",
       "      <th>49</th>\n",
       "      <td>952</td>\n",
       "      <td>yes</td>\n",
       "      <td>Single-Family Home 001 (Master)</td>\n",
       "      <td>Portland</td>\n",
       "      <td>Oregon</td>\n",
       "      <td>NaN</td>\n",
       "      <td>NaN</td>\n",
       "      <td>NaN</td>\n",
       "      <td>NaN</td>\n",
       "      <td>NaN</td>\n",
       "      <td>...</td>\n",
       "      <td>NaN</td>\n",
       "      <td>NaN</td>\n",
       "      <td>NaN</td>\n",
       "      <td>NaN</td>\n",
       "      <td>NaN</td>\n",
       "      <td>NaN</td>\n",
       "      <td>NaN</td>\n",
       "      <td>NaN</td>\n",
       "      <td>NaN</td>\n",
       "      <td>NaN</td>\n",
       "    </tr>\n",
       "    <tr>\n",
       "      <th>50</th>\n",
       "      <td>114</td>\n",
       "      <td>yes</td>\n",
       "      <td>Single-Family Home 001 (Master)</td>\n",
       "      <td>Austin</td>\n",
       "      <td>Texas</td>\n",
       "      <td>2013-10-15 19:00:00-05:00</td>\n",
       "      <td>2019-11-10 08:59:00-06:00</td>\n",
       "      <td>99%</td>\n",
       "      <td>2019-02-22 06:00:00-06:00</td>\n",
       "      <td>2019-11-10 08:00:00-06:00</td>\n",
       "      <td>...</td>\n",
       "      <td>yes</td>\n",
       "      <td>yes</td>\n",
       "      <td>NaN</td>\n",
       "      <td>NaN</td>\n",
       "      <td>CCET - Pricing Trial</td>\n",
       "      <td>NaN</td>\n",
       "      <td>NaN</td>\n",
       "      <td>NaN</td>\n",
       "      <td>NaN</td>\n",
       "      <td>NaN</td>\n",
       "    </tr>\n",
       "    <tr>\n",
       "      <th>51</th>\n",
       "      <td>370</td>\n",
       "      <td>yes</td>\n",
       "      <td>Single-Family Home 001 (Master)</td>\n",
       "      <td>Austin</td>\n",
       "      <td>Texas</td>\n",
       "      <td>2012-07-11 00:00:00-05:00</td>\n",
       "      <td>2022-10-03 04:59:00-05:00</td>\n",
       "      <td>85%</td>\n",
       "      <td>2019-03-02 01:00:00-06:00</td>\n",
       "      <td>2022-10-03 02:00:00-05:00</td>\n",
       "      <td>...</td>\n",
       "      <td>yes</td>\n",
       "      <td>yes</td>\n",
       "      <td>NaN</td>\n",
       "      <td>NaN</td>\n",
       "      <td>CCET - Pricing Trial</td>\n",
       "      <td>NaN</td>\n",
       "      <td>NaN</td>\n",
       "      <td>NaN</td>\n",
       "      <td>NaN</td>\n",
       "      <td>NaN</td>\n",
       "    </tr>\n",
       "    <tr>\n",
       "      <th>...</th>\n",
       "      <td>...</td>\n",
       "      <td>...</td>\n",
       "      <td>...</td>\n",
       "      <td>...</td>\n",
       "      <td>...</td>\n",
       "      <td>...</td>\n",
       "      <td>...</td>\n",
       "      <td>...</td>\n",
       "      <td>...</td>\n",
       "      <td>...</td>\n",
       "      <td>...</td>\n",
       "      <td>...</td>\n",
       "      <td>...</td>\n",
       "      <td>...</td>\n",
       "      <td>...</td>\n",
       "      <td>...</td>\n",
       "      <td>...</td>\n",
       "      <td>...</td>\n",
       "      <td>...</td>\n",
       "      <td>...</td>\n",
       "      <td>...</td>\n",
       "    </tr>\n",
       "    <tr>\n",
       "      <th>1965</th>\n",
       "      <td>1281</td>\n",
       "      <td>yes</td>\n",
       "      <td>Single-Family Home 001 (Master)</td>\n",
       "      <td>Berwick</td>\n",
       "      <td>Pennsylvania</td>\n",
       "      <td>NaN</td>\n",
       "      <td>NaN</td>\n",
       "      <td>NaN</td>\n",
       "      <td>NaN</td>\n",
       "      <td>NaN</td>\n",
       "      <td>...</td>\n",
       "      <td>NaN</td>\n",
       "      <td>NaN</td>\n",
       "      <td>NaN</td>\n",
       "      <td>NaN</td>\n",
       "      <td>NaN</td>\n",
       "      <td>NaN</td>\n",
       "      <td>NaN</td>\n",
       "      <td>NaN</td>\n",
       "      <td>NaN</td>\n",
       "      <td>NaN</td>\n",
       "    </tr>\n",
       "    <tr>\n",
       "      <th>1966</th>\n",
       "      <td>8576</td>\n",
       "      <td>yes</td>\n",
       "      <td>Single-Family Home 001 (Master)</td>\n",
       "      <td>Berwick</td>\n",
       "      <td>Pennsylvania</td>\n",
       "      <td>NaN</td>\n",
       "      <td>NaN</td>\n",
       "      <td>NaN</td>\n",
       "      <td>NaN</td>\n",
       "      <td>NaN</td>\n",
       "      <td>...</td>\n",
       "      <td>NaN</td>\n",
       "      <td>NaN</td>\n",
       "      <td>NaN</td>\n",
       "      <td>NaN</td>\n",
       "      <td>NaN</td>\n",
       "      <td>NaN</td>\n",
       "      <td>NaN</td>\n",
       "      <td>NaN</td>\n",
       "      <td>NaN</td>\n",
       "      <td>NaN</td>\n",
       "    </tr>\n",
       "    <tr>\n",
       "      <th>1967</th>\n",
       "      <td>11300</td>\n",
       "      <td>yes</td>\n",
       "      <td>Single-Family Home 001 (Master)</td>\n",
       "      <td>Berwick</td>\n",
       "      <td>Pennsylvania</td>\n",
       "      <td>NaN</td>\n",
       "      <td>NaN</td>\n",
       "      <td>NaN</td>\n",
       "      <td>NaN</td>\n",
       "      <td>NaN</td>\n",
       "      <td>...</td>\n",
       "      <td>NaN</td>\n",
       "      <td>NaN</td>\n",
       "      <td>NaN</td>\n",
       "      <td>NaN</td>\n",
       "      <td>NaN</td>\n",
       "      <td>NaN</td>\n",
       "      <td>NaN</td>\n",
       "      <td>NaN</td>\n",
       "      <td>NaN</td>\n",
       "      <td>NaN</td>\n",
       "    </tr>\n",
       "    <tr>\n",
       "      <th>1968</th>\n",
       "      <td>4046</td>\n",
       "      <td>yes</td>\n",
       "      <td>Single-Family Home 001 (Master)</td>\n",
       "      <td>Culebra</td>\n",
       "      <td>Puerto Rico</td>\n",
       "      <td>2023-06-02 19:00:00-05:00</td>\n",
       "      <td>2024-02-08 07:59:00-06:00</td>\n",
       "      <td>100%</td>\n",
       "      <td>2023-06-02 19:00:00-05:00</td>\n",
       "      <td>2023-10-31 23:00:00-05:00</td>\n",
       "      <td>...</td>\n",
       "      <td>NaN</td>\n",
       "      <td>NaN</td>\n",
       "      <td>NaN</td>\n",
       "      <td>NaN</td>\n",
       "      <td>NaN</td>\n",
       "      <td>NaN</td>\n",
       "      <td>NaN</td>\n",
       "      <td>NaN</td>\n",
       "      <td>NaN</td>\n",
       "      <td>NaN</td>\n",
       "    </tr>\n",
       "    <tr>\n",
       "      <th>1969</th>\n",
       "      <td>4749</td>\n",
       "      <td>yes</td>\n",
       "      <td>Single-Family Home 001 (Master)</td>\n",
       "      <td>Culebra</td>\n",
       "      <td>Puerto Rico</td>\n",
       "      <td>2023-09-12 19:00:00-05:00</td>\n",
       "      <td>2024-02-20 19:59:00-06:00</td>\n",
       "      <td>100%</td>\n",
       "      <td>2023-09-12 19:00:00-05:00</td>\n",
       "      <td>2023-10-17 14:00:00-05:00</td>\n",
       "      <td>...</td>\n",
       "      <td>NaN</td>\n",
       "      <td>NaN</td>\n",
       "      <td>NaN</td>\n",
       "      <td>NaN</td>\n",
       "      <td>NaN</td>\n",
       "      <td>NaN</td>\n",
       "      <td>NaN</td>\n",
       "      <td>NaN</td>\n",
       "      <td>NaN</td>\n",
       "      <td>NaN</td>\n",
       "    </tr>\n",
       "  </tbody>\n",
       "</table>\n",
       "<p>1271 rows × 130 columns</p>\n",
       "</div>"
      ],
      "text/plain": [
       "     dataid active_record                    building_type      city  \\\n",
       "35     5180           yes  Single-Family Home 001 (Master)  Portland   \n",
       "36      800           yes  Single-Family Home 001 (Master)  Portland   \n",
       "49      952           yes  Single-Family Home 001 (Master)  Portland   \n",
       "50      114           yes  Single-Family Home 001 (Master)    Austin   \n",
       "51      370           yes  Single-Family Home 001 (Master)    Austin   \n",
       "...     ...           ...                              ...       ...   \n",
       "1965   1281           yes  Single-Family Home 001 (Master)   Berwick   \n",
       "1966   8576           yes  Single-Family Home 001 (Master)   Berwick   \n",
       "1967  11300           yes  Single-Family Home 001 (Master)   Berwick   \n",
       "1968   4046           yes  Single-Family Home 001 (Master)   Culebra   \n",
       "1969   4749           yes  Single-Family Home 001 (Master)   Culebra   \n",
       "\n",
       "             state       egauge_1min_min_time       egauge_1min_max_time  \\\n",
       "35          Oregon                        NaN                        NaN   \n",
       "36          Oregon                        NaN                        NaN   \n",
       "49          Oregon                        NaN                        NaN   \n",
       "50           Texas  2013-10-15 19:00:00-05:00  2019-11-10 08:59:00-06:00   \n",
       "51           Texas  2012-07-11 00:00:00-05:00  2022-10-03 04:59:00-05:00   \n",
       "...            ...                        ...                        ...   \n",
       "1965  Pennsylvania                        NaN                        NaN   \n",
       "1966  Pennsylvania                        NaN                        NaN   \n",
       "1967  Pennsylvania                        NaN                        NaN   \n",
       "1968   Puerto Rico  2023-06-02 19:00:00-05:00  2024-02-08 07:59:00-06:00   \n",
       "1969   Puerto Rico  2023-09-12 19:00:00-05:00  2024-02-20 19:59:00-06:00   \n",
       "\n",
       "     egauge_1min_data_availability         egauge_1s_min_time  \\\n",
       "35                             NaN                        NaN   \n",
       "36                             NaN                        NaN   \n",
       "49                             NaN                        NaN   \n",
       "50                             99%  2019-02-22 06:00:00-06:00   \n",
       "51                             85%  2019-03-02 01:00:00-06:00   \n",
       "...                            ...                        ...   \n",
       "1965                           NaN                        NaN   \n",
       "1966                           NaN                        NaN   \n",
       "1967                           NaN                        NaN   \n",
       "1968                          100%  2023-06-02 19:00:00-05:00   \n",
       "1969                          100%  2023-09-12 19:00:00-05:00   \n",
       "\n",
       "             egauge_1s_max_time  ... program_baseline  \\\n",
       "35                          NaN  ...              NaN   \n",
       "36                          NaN  ...              NaN   \n",
       "49                          NaN  ...              NaN   \n",
       "50    2019-11-10 08:00:00-06:00  ...              yes   \n",
       "51    2022-10-03 02:00:00-05:00  ...              yes   \n",
       "...                         ...  ...              ...   \n",
       "1965                        NaN  ...              NaN   \n",
       "1966                        NaN  ...              NaN   \n",
       "1967                        NaN  ...              NaN   \n",
       "1968  2023-10-31 23:00:00-05:00  ...              NaN   \n",
       "1969  2023-10-17 14:00:00-05:00  ...              NaN   \n",
       "\n",
       "     program_energy_internet_demo program_lg_appliance program_verizon  \\\n",
       "35                            NaN                  NaN             NaN   \n",
       "36                            NaN                  NaN             NaN   \n",
       "49                            NaN                  NaN             NaN   \n",
       "50                            yes                  NaN             NaN   \n",
       "51                            yes                  NaN             NaN   \n",
       "...                           ...                  ...             ...   \n",
       "1965                          NaN                  NaN             NaN   \n",
       "1966                          NaN                  NaN             NaN   \n",
       "1967                          NaN                  NaN             NaN   \n",
       "1968                          NaN                  NaN             NaN   \n",
       "1969                          NaN                  NaN             NaN   \n",
       "\n",
       "        program_ccet_group program_civita_group program_shines  \\\n",
       "35                     NaN                  NaN            NaN   \n",
       "36                     NaN                  NaN            NaN   \n",
       "49                     NaN                  NaN            NaN   \n",
       "50    CCET - Pricing Trial                  NaN            NaN   \n",
       "51    CCET - Pricing Trial                  NaN            NaN   \n",
       "...                    ...                  ...            ...   \n",
       "1965                   NaN                  NaN            NaN   \n",
       "1966                   NaN                  NaN            NaN   \n",
       "1967                   NaN                  NaN            NaN   \n",
       "1968                   NaN                  NaN            NaN   \n",
       "1969                   NaN                  NaN            NaN   \n",
       "\n",
       "     energy_storage_system energy_storage_system_l1 energy_storage_system_l2  \n",
       "35                     NaN                      NaN                      NaN  \n",
       "36                     NaN                      NaN                      NaN  \n",
       "49                     NaN                      NaN                      NaN  \n",
       "50                     NaN                      NaN                      NaN  \n",
       "51                     NaN                      NaN                      NaN  \n",
       "...                    ...                      ...                      ...  \n",
       "1965                   NaN                      NaN                      NaN  \n",
       "1966                   NaN                      NaN                      NaN  \n",
       "1967                   NaN                      NaN                      NaN  \n",
       "1968                   NaN                      NaN                      NaN  \n",
       "1969                   NaN                      NaN                      NaN  \n",
       "\n",
       "[1271 rows x 130 columns]"
      ]
     },
     "execution_count": 29,
     "metadata": {},
     "output_type": "execute_result"
    }
   ],
   "source": [
    "metadata_sel = metadata[metadata[\"active_record\"] == \"yes\"]\n",
    "len(metadata_sel)"
   ]
  },
  {
   "cell_type": "code",
   "execution_count": null,
   "id": "f2dc15df-5035-4a99-a5f4-a67185daf42e",
   "metadata": {},
   "outputs": [],
   "source": []
  }
 ],
 "metadata": {
  "kernelspec": {
   "display_name": "Python 3 (ipykernel)",
   "language": "python",
   "name": "python3"
  },
  "language_info": {
   "codemirror_mode": {
    "name": "ipython",
    "version": 3
   },
   "file_extension": ".py",
   "mimetype": "text/x-python",
   "name": "python",
   "nbconvert_exporter": "python",
   "pygments_lexer": "ipython3",
   "version": "3.12.4"
  }
 },
 "nbformat": 4,
 "nbformat_minor": 5
}
