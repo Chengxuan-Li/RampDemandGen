{
 "cells": [
  {
   "cell_type": "code",
   "execution_count": 4,
   "id": "powered-living",
   "metadata": {},
   "outputs": [],
   "source": [
    "# import our libraries\n",
    "import sqlite3\n",
    "import pandas as pd\n",
    "%matplotlib inline"
   ]
  },
  {
   "cell_type": "code",
   "execution_count": 5,
   "id": "motivated-title",
   "metadata": {},
   "outputs": [],
   "source": [
    "# open a sqlite connection to the metadata file\n",
    "connection = sqlite3.connect('/shared/Dataport-Data/metadata.sqlite3')"
   ]
  },
  {
   "cell_type": "code",
   "execution_count": 16,
   "id": "small-pottery",
   "metadata": {},
   "outputs": [
    {
     "data": {
      "text/plain": [
       "\"SELECT dataid, egauge_1min_data_availability, egauge_1min_min_time, egauge_1min_max_time FROM metadata WHERE grid = 'yes' AND solar = 'yes' AND city = 'Austin' AND dataid in (661,1642,2335,2361,2818,3039,3456,3538,4031,4373,4767,5746,6139,7536,7719,7800,7901,7951,8156,8386,8565,9019,9160,9922,9278) ORDER by egauge_1min_data_availability DESC\""
      ]
     },
     "execution_count": 16,
     "metadata": {},
     "output_type": "execute_result"
    }
   ],
   "source": [
    "# build and execute query to find homes (dataid) in our pre-prepared and free Austin data set that have solar\n",
    "# These are the homes in the free Austin data set. We'll want to restrict our homes to those\n",
    "austin_homes = \"(661,1642,2335,2361,2818,3039,3456,3538,4031,4373,4767,5746,6139,7536,7719,7800,7901,7951,\"\\\n",
    "    \"8156,8386,8565,9019,9160,9922,9278)\"\n",
    "\n",
    "# build the sql query\n",
    "sql_query = \"SELECT dataid, egauge_1min_data_availability, egauge_1min_min_time, egauge_1min_max_time \" \\\n",
    "    \"FROM metadata WHERE grid = 'yes' \"\\\n",
    "    \"AND solar = 'yes' AND city = 'Austin' AND dataid in {} \"\\\n",
    "    \"ORDER by egauge_1min_data_availability DESC\".format(austin_homes)\n",
    "\n",
    "# print out the full query\n",
    "sql_query"
   ]
  },
  {
   "cell_type": "code",
   "execution_count": 15,
   "id": "piano-ticket",
   "metadata": {},
   "outputs": [
    {
     "data": {
      "text/html": [
       "<div>\n",
       "<style scoped>\n",
       "    .dataframe tbody tr th:only-of-type {\n",
       "        vertical-align: middle;\n",
       "    }\n",
       "\n",
       "    .dataframe tbody tr th {\n",
       "        vertical-align: top;\n",
       "    }\n",
       "\n",
       "    .dataframe thead th {\n",
       "        text-align: right;\n",
       "    }\n",
       "</style>\n",
       "<table border=\"1\" class=\"dataframe\">\n",
       "  <thead>\n",
       "    <tr style=\"text-align: right;\">\n",
       "      <th></th>\n",
       "      <th>dataid</th>\n",
       "      <th>egauge_1min_data_availability</th>\n",
       "      <th>egauge_1min_min_time</th>\n",
       "      <th>egauge_1min_max_time</th>\n",
       "    </tr>\n",
       "  </thead>\n",
       "  <tbody>\n",
       "    <tr>\n",
       "      <th>0</th>\n",
       "      <td>9019</td>\n",
       "      <td>99%</td>\n",
       "      <td>2012-09-20 19:00:00-05:00</td>\n",
       "      <td>2019-05-20 06:59:00-05:00</td>\n",
       "    </tr>\n",
       "    <tr>\n",
       "      <th>1</th>\n",
       "      <td>6139</td>\n",
       "      <td>99%</td>\n",
       "      <td>2012-09-15 19:00:00-05:00</td>\n",
       "      <td>2021-03-28 02:59:00-05:00</td>\n",
       "    </tr>\n",
       "    <tr>\n",
       "      <th>2</th>\n",
       "      <td>9160</td>\n",
       "      <td>98%</td>\n",
       "      <td>2012-05-02 19:00:00-05:00</td>\n",
       "      <td>2021-03-28 02:59:00-05:00</td>\n",
       "    </tr>\n",
       "    <tr>\n",
       "      <th>3</th>\n",
       "      <td>7536</td>\n",
       "      <td>98%</td>\n",
       "      <td>2012-10-25 19:00:00-05:00</td>\n",
       "      <td>2021-03-28 02:59:00-05:00</td>\n",
       "    </tr>\n",
       "    <tr>\n",
       "      <th>4</th>\n",
       "      <td>3456</td>\n",
       "      <td>98%</td>\n",
       "      <td>2012-10-19 19:00:00-05:00</td>\n",
       "      <td>2021-03-28 02:59:00-05:00</td>\n",
       "    </tr>\n",
       "    <tr>\n",
       "      <th>5</th>\n",
       "      <td>3039</td>\n",
       "      <td>98%</td>\n",
       "      <td>2012-10-26 19:00:00-05:00</td>\n",
       "      <td>2021-03-28 02:59:00-05:00</td>\n",
       "    </tr>\n",
       "    <tr>\n",
       "      <th>6</th>\n",
       "      <td>2818</td>\n",
       "      <td>98%</td>\n",
       "      <td>2012-10-20 19:00:00-05:00</td>\n",
       "      <td>2021-03-28 02:59:00-05:00</td>\n",
       "    </tr>\n",
       "    <tr>\n",
       "      <th>7</th>\n",
       "      <td>1642</td>\n",
       "      <td>98%</td>\n",
       "      <td>2012-05-11 19:00:00-05:00</td>\n",
       "      <td>2021-03-28 02:59:00-05:00</td>\n",
       "    </tr>\n",
       "    <tr>\n",
       "      <th>8</th>\n",
       "      <td>7719</td>\n",
       "      <td>97%</td>\n",
       "      <td>2014-05-15 00:00:00-05:00</td>\n",
       "      <td>2021-03-28 02:59:00-05:00</td>\n",
       "    </tr>\n",
       "    <tr>\n",
       "      <th>9</th>\n",
       "      <td>3538</td>\n",
       "      <td>97%</td>\n",
       "      <td>2014-04-26 00:00:00-05:00</td>\n",
       "      <td>2021-03-28 02:59:00-05:00</td>\n",
       "    </tr>\n",
       "    <tr>\n",
       "      <th>10</th>\n",
       "      <td>4767</td>\n",
       "      <td>97%</td>\n",
       "      <td>2012-07-10 19:00:00-05:00</td>\n",
       "      <td>2021-03-28 02:59:00-05:00</td>\n",
       "    </tr>\n",
       "    <tr>\n",
       "      <th>11</th>\n",
       "      <td>2335</td>\n",
       "      <td>97%</td>\n",
       "      <td>2012-05-26 00:00:00-05:00</td>\n",
       "      <td>2021-03-28 02:59:00-05:00</td>\n",
       "    </tr>\n",
       "    <tr>\n",
       "      <th>12</th>\n",
       "      <td>661</td>\n",
       "      <td>97%</td>\n",
       "      <td>2013-09-07 19:00:00-05:00</td>\n",
       "      <td>2021-03-28 02:59:00-05:00</td>\n",
       "    </tr>\n",
       "    <tr>\n",
       "      <th>13</th>\n",
       "      <td>8156</td>\n",
       "      <td>96%</td>\n",
       "      <td>2014-06-11 00:00:00-05:00</td>\n",
       "      <td>2020-08-11 16:59:00-05:00</td>\n",
       "    </tr>\n",
       "    <tr>\n",
       "      <th>14</th>\n",
       "      <td>4031</td>\n",
       "      <td>96%</td>\n",
       "      <td>2012-11-03 19:00:00-05:00</td>\n",
       "      <td>2021-03-28 02:59:00-05:00</td>\n",
       "    </tr>\n",
       "    <tr>\n",
       "      <th>15</th>\n",
       "      <td>4373</td>\n",
       "      <td>95%</td>\n",
       "      <td>2012-05-31 19:00:00-05:00</td>\n",
       "      <td>2021-03-28 02:59:00-05:00</td>\n",
       "    </tr>\n",
       "    <tr>\n",
       "      <th>16</th>\n",
       "      <td>9278</td>\n",
       "      <td>92%</td>\n",
       "      <td>2014-04-08 19:00:00-05:00</td>\n",
       "      <td>2021-03-28 02:59:00-05:00</td>\n",
       "    </tr>\n",
       "    <tr>\n",
       "      <th>17</th>\n",
       "      <td>2361</td>\n",
       "      <td>91%</td>\n",
       "      <td>2014-05-13 08:26:00-05:00</td>\n",
       "      <td>2021-03-28 02:59:00-05:00</td>\n",
       "    </tr>\n",
       "    <tr>\n",
       "      <th>18</th>\n",
       "      <td>7800</td>\n",
       "      <td>88%</td>\n",
       "      <td>2012-09-01 19:00:00-05:00</td>\n",
       "      <td>2021-03-28 02:59:00-05:00</td>\n",
       "    </tr>\n",
       "  </tbody>\n",
       "</table>\n",
       "</div>"
      ],
      "text/plain": [
       "    dataid egauge_1min_data_availability       egauge_1min_min_time  \\\n",
       "0     9019                           99%  2012-09-20 19:00:00-05:00   \n",
       "1     6139                           99%  2012-09-15 19:00:00-05:00   \n",
       "2     9160                           98%  2012-05-02 19:00:00-05:00   \n",
       "3     7536                           98%  2012-10-25 19:00:00-05:00   \n",
       "4     3456                           98%  2012-10-19 19:00:00-05:00   \n",
       "5     3039                           98%  2012-10-26 19:00:00-05:00   \n",
       "6     2818                           98%  2012-10-20 19:00:00-05:00   \n",
       "7     1642                           98%  2012-05-11 19:00:00-05:00   \n",
       "8     7719                           97%  2014-05-15 00:00:00-05:00   \n",
       "9     3538                           97%  2014-04-26 00:00:00-05:00   \n",
       "10    4767                           97%  2012-07-10 19:00:00-05:00   \n",
       "11    2335                           97%  2012-05-26 00:00:00-05:00   \n",
       "12     661                           97%  2013-09-07 19:00:00-05:00   \n",
       "13    8156                           96%  2014-06-11 00:00:00-05:00   \n",
       "14    4031                           96%  2012-11-03 19:00:00-05:00   \n",
       "15    4373                           95%  2012-05-31 19:00:00-05:00   \n",
       "16    9278                           92%  2014-04-08 19:00:00-05:00   \n",
       "17    2361                           91%  2014-05-13 08:26:00-05:00   \n",
       "18    7800                           88%  2012-09-01 19:00:00-05:00   \n",
       "\n",
       "         egauge_1min_max_time  \n",
       "0   2019-05-20 06:59:00-05:00  \n",
       "1   2021-03-28 02:59:00-05:00  \n",
       "2   2021-03-28 02:59:00-05:00  \n",
       "3   2021-03-28 02:59:00-05:00  \n",
       "4   2021-03-28 02:59:00-05:00  \n",
       "5   2021-03-28 02:59:00-05:00  \n",
       "6   2021-03-28 02:59:00-05:00  \n",
       "7   2021-03-28 02:59:00-05:00  \n",
       "8   2021-03-28 02:59:00-05:00  \n",
       "9   2021-03-28 02:59:00-05:00  \n",
       "10  2021-03-28 02:59:00-05:00  \n",
       "11  2021-03-28 02:59:00-05:00  \n",
       "12  2021-03-28 02:59:00-05:00  \n",
       "13  2020-08-11 16:59:00-05:00  \n",
       "14  2021-03-28 02:59:00-05:00  \n",
       "15  2021-03-28 02:59:00-05:00  \n",
       "16  2021-03-28 02:59:00-05:00  \n",
       "17  2021-03-28 02:59:00-05:00  \n",
       "18  2021-03-28 02:59:00-05:00  "
      ]
     },
     "execution_count": 15,
     "metadata": {},
     "output_type": "execute_result"
    }
   ],
   "source": [
    "# execute the SQL query and put it into a Pandas dataframe\n",
    "meta_df = pd.read_sql_query(sql_query, connection)\n",
    "# print out the dataframe\n",
    "meta_df"
   ]
  },
  {
   "cell_type": "code",
   "execution_count": 21,
   "id": "medical-selling",
   "metadata": {},
   "outputs": [
    {
     "data": {
      "text/plain": [
       "'9019,6139,9160,7536,3456,3039,2818,1642,7719,3538,4767,2335,661,8156,4031,4373,9278,2361,7800'"
      ]
     },
     "execution_count": 21,
     "metadata": {},
     "output_type": "execute_result"
    }
   ],
   "source": [
    "# extract dataids to a list of ints\n",
    "dataids_list = meta_df['dataid'].tolist()\n",
    "\n",
    "# extract the list of ints into a comma separated string\n",
    "dataids_str = ','.join([str(i) for i in dataids_list])\n",
    "dataids_str"
   ]
  },
  {
   "cell_type": "code",
   "execution_count": 25,
   "id": "prompt-worse",
   "metadata": {},
   "outputs": [],
   "source": [
    "# open a sqlite connection to the 1 minute austin electricity database file\n",
    "elec_conn = sqlite3.connect('/shared/Dataport-Data/electricity_data/Austin/1minute_data_austin.sqlite3')"
   ]
  },
  {
   "cell_type": "code",
   "execution_count": 29,
   "id": "baking-draft",
   "metadata": {},
   "outputs": [
    {
     "name": "stdout",
     "output_type": "stream",
     "text": [
      "SELECT dataid, localminute, grid, solar FROM '1minute_data_austin' WHERE dataid in (9019,6139,9160,7536,3456,3039,2818,1642,7719,3538,4767,2335,661,8156,4031,4373,9278,2361,7800) AND localminute >= '2018-01-01' AND localminute < '2018-01-08'\n",
      "SELECT dataid, localminute, grid, solar FROM '1minute_data_austin' WHERE dataid in (9019,6139,9160,7536,3456,3039,2818,1642,7719,3538,4767,2335,661,8156,4031,4373,9278,2361,7800) AND localminute >= '2018-07-04' AND localminute < '2018-07-11'\n"
     ]
    }
   ],
   "source": [
    "# build the sql queries using the string of dataids above\n",
    "query_jan = \"SELECT dataid, localminute, grid, solar FROM '1minute_data_austin' WHERE dataid in ({})\"\\\n",
    "    \" AND localminute >= '2018-01-01' AND localminute < '2018-01-08'\".format(dataids_str)\n",
    "print(query_jan)\n",
    "\n",
    "query_july = \"SELECT dataid, localminute, grid, solar FROM '1minute_data_austin' WHERE dataid in ({})\"\\\n",
    "    \" AND localminute >= '2018-07-04' AND localminute < '2018-07-11'\".format(dataids_str)\n",
    "print(query_july)"
   ]
  },
  {
   "cell_type": "code",
   "execution_count": 42,
   "id": "decent-eagle",
   "metadata": {},
   "outputs": [
    {
     "data": {
      "text/html": [
       "<div>\n",
       "<style scoped>\n",
       "    .dataframe tbody tr th:only-of-type {\n",
       "        vertical-align: middle;\n",
       "    }\n",
       "\n",
       "    .dataframe tbody tr th {\n",
       "        vertical-align: top;\n",
       "    }\n",
       "\n",
       "    .dataframe thead th {\n",
       "        text-align: right;\n",
       "    }\n",
       "</style>\n",
       "<table border=\"1\" class=\"dataframe\">\n",
       "  <thead>\n",
       "    <tr style=\"text-align: right;\">\n",
       "      <th></th>\n",
       "      <th>dataid</th>\n",
       "      <th>localminute</th>\n",
       "      <th>grid</th>\n",
       "      <th>solar</th>\n",
       "    </tr>\n",
       "  </thead>\n",
       "  <tbody>\n",
       "    <tr>\n",
       "      <th>0</th>\n",
       "      <td>661</td>\n",
       "      <td>2018-01-01 01:21:00-06</td>\n",
       "      <td>1.806</td>\n",
       "      <td>-0.002</td>\n",
       "    </tr>\n",
       "    <tr>\n",
       "      <th>1</th>\n",
       "      <td>661</td>\n",
       "      <td>2018-01-01 01:00:00-06</td>\n",
       "      <td>1.817</td>\n",
       "      <td>-0.002</td>\n",
       "    </tr>\n",
       "    <tr>\n",
       "      <th>2</th>\n",
       "      <td>661</td>\n",
       "      <td>2018-01-01 01:01:00-06</td>\n",
       "      <td>1.804</td>\n",
       "      <td>-0.002</td>\n",
       "    </tr>\n",
       "    <tr>\n",
       "      <th>3</th>\n",
       "      <td>661</td>\n",
       "      <td>2018-01-01 01:02:00-06</td>\n",
       "      <td>1.761</td>\n",
       "      <td>-0.002</td>\n",
       "    </tr>\n",
       "    <tr>\n",
       "      <th>4</th>\n",
       "      <td>661</td>\n",
       "      <td>2018-01-01 01:03:00-06</td>\n",
       "      <td>1.672</td>\n",
       "      <td>-0.002</td>\n",
       "    </tr>\n",
       "    <tr>\n",
       "      <th>...</th>\n",
       "      <td>...</td>\n",
       "      <td>...</td>\n",
       "      <td>...</td>\n",
       "      <td>...</td>\n",
       "    </tr>\n",
       "    <tr>\n",
       "      <th>191031</th>\n",
       "      <td>9278</td>\n",
       "      <td>2018-01-02 21:25:00-06</td>\n",
       "      <td>13.743</td>\n",
       "      <td>-0.006</td>\n",
       "    </tr>\n",
       "    <tr>\n",
       "      <th>191032</th>\n",
       "      <td>9278</td>\n",
       "      <td>2018-01-02 21:26:00-06</td>\n",
       "      <td>1.530</td>\n",
       "      <td>-0.004</td>\n",
       "    </tr>\n",
       "    <tr>\n",
       "      <th>191033</th>\n",
       "      <td>9278</td>\n",
       "      <td>2018-01-02 21:27:00-06</td>\n",
       "      <td>1.417</td>\n",
       "      <td>-0.004</td>\n",
       "    </tr>\n",
       "    <tr>\n",
       "      <th>191034</th>\n",
       "      <td>9278</td>\n",
       "      <td>2018-01-02 21:28:00-06</td>\n",
       "      <td>10.454</td>\n",
       "      <td>-0.005</td>\n",
       "    </tr>\n",
       "    <tr>\n",
       "      <th>191035</th>\n",
       "      <td>9278</td>\n",
       "      <td>2018-01-02 21:29:00-06</td>\n",
       "      <td>22.508</td>\n",
       "      <td>-0.007</td>\n",
       "    </tr>\n",
       "  </tbody>\n",
       "</table>\n",
       "<p>191036 rows × 4 columns</p>\n",
       "</div>"
      ],
      "text/plain": [
       "        dataid             localminute    grid  solar\n",
       "0          661  2018-01-01 01:21:00-06   1.806 -0.002\n",
       "1          661  2018-01-01 01:00:00-06   1.817 -0.002\n",
       "2          661  2018-01-01 01:01:00-06   1.804 -0.002\n",
       "3          661  2018-01-01 01:02:00-06   1.761 -0.002\n",
       "4          661  2018-01-01 01:03:00-06   1.672 -0.002\n",
       "...        ...                     ...     ...    ...\n",
       "191031    9278  2018-01-02 21:25:00-06  13.743 -0.006\n",
       "191032    9278  2018-01-02 21:26:00-06   1.530 -0.004\n",
       "191033    9278  2018-01-02 21:27:00-06   1.417 -0.004\n",
       "191034    9278  2018-01-02 21:28:00-06  10.454 -0.005\n",
       "191035    9278  2018-01-02 21:29:00-06  22.508 -0.007\n",
       "\n",
       "[191036 rows x 4 columns]"
      ]
     },
     "execution_count": 42,
     "metadata": {},
     "output_type": "execute_result"
    }
   ],
   "source": [
    "# execute the SQL query and put it into a Pandas dataframe\n",
    "df_jan = pd.read_sql_query(query_jan, elec_conn)\n",
    "# print out the dataframe\n",
    "df_jan"
   ]
  },
  {
   "cell_type": "code",
   "execution_count": 43,
   "id": "streaming-entity",
   "metadata": {},
   "outputs": [
    {
     "data": {
      "text/html": [
       "<div>\n",
       "<style scoped>\n",
       "    .dataframe tbody tr th:only-of-type {\n",
       "        vertical-align: middle;\n",
       "    }\n",
       "\n",
       "    .dataframe tbody tr th {\n",
       "        vertical-align: top;\n",
       "    }\n",
       "\n",
       "    .dataframe thead th {\n",
       "        text-align: right;\n",
       "    }\n",
       "</style>\n",
       "<table border=\"1\" class=\"dataframe\">\n",
       "  <thead>\n",
       "    <tr style=\"text-align: right;\">\n",
       "      <th></th>\n",
       "      <th>dataid</th>\n",
       "      <th>localminute</th>\n",
       "      <th>grid</th>\n",
       "      <th>solar</th>\n",
       "    </tr>\n",
       "  </thead>\n",
       "  <tbody>\n",
       "    <tr>\n",
       "      <th>0</th>\n",
       "      <td>661</td>\n",
       "      <td>2018-07-05 07:33:00-05</td>\n",
       "      <td>0.596</td>\n",
       "      <td>0.020</td>\n",
       "    </tr>\n",
       "    <tr>\n",
       "      <th>1</th>\n",
       "      <td>661</td>\n",
       "      <td>2018-07-06 07:03:00-05</td>\n",
       "      <td>0.563</td>\n",
       "      <td>0.008</td>\n",
       "    </tr>\n",
       "    <tr>\n",
       "      <th>2</th>\n",
       "      <td>661</td>\n",
       "      <td>2018-07-06 07:04:00-05</td>\n",
       "      <td>0.559</td>\n",
       "      <td>0.013</td>\n",
       "    </tr>\n",
       "    <tr>\n",
       "      <th>3</th>\n",
       "      <td>661</td>\n",
       "      <td>2018-07-06 07:07:00-05</td>\n",
       "      <td>0.544</td>\n",
       "      <td>0.028</td>\n",
       "    </tr>\n",
       "    <tr>\n",
       "      <th>4</th>\n",
       "      <td>661</td>\n",
       "      <td>2018-07-06 07:06:00-05</td>\n",
       "      <td>0.549</td>\n",
       "      <td>0.023</td>\n",
       "    </tr>\n",
       "    <tr>\n",
       "      <th>...</th>\n",
       "      <td>...</td>\n",
       "      <td>...</td>\n",
       "      <td>...</td>\n",
       "      <td>...</td>\n",
       "    </tr>\n",
       "    <tr>\n",
       "      <th>191515</th>\n",
       "      <td>9278</td>\n",
       "      <td>2018-07-10 23:55:00-05</td>\n",
       "      <td>3.805</td>\n",
       "      <td>-0.006</td>\n",
       "    </tr>\n",
       "    <tr>\n",
       "      <th>191516</th>\n",
       "      <td>9278</td>\n",
       "      <td>2018-07-10 23:56:00-05</td>\n",
       "      <td>1.420</td>\n",
       "      <td>-0.003</td>\n",
       "    </tr>\n",
       "    <tr>\n",
       "      <th>191517</th>\n",
       "      <td>9278</td>\n",
       "      <td>2018-07-10 23:57:00-05</td>\n",
       "      <td>1.406</td>\n",
       "      <td>-0.003</td>\n",
       "    </tr>\n",
       "    <tr>\n",
       "      <th>191518</th>\n",
       "      <td>9278</td>\n",
       "      <td>2018-07-10 23:58:00-05</td>\n",
       "      <td>2.025</td>\n",
       "      <td>-0.003</td>\n",
       "    </tr>\n",
       "    <tr>\n",
       "      <th>191519</th>\n",
       "      <td>9278</td>\n",
       "      <td>2018-07-10 23:59:00-05</td>\n",
       "      <td>4.325</td>\n",
       "      <td>-0.006</td>\n",
       "    </tr>\n",
       "  </tbody>\n",
       "</table>\n",
       "<p>191520 rows × 4 columns</p>\n",
       "</div>"
      ],
      "text/plain": [
       "        dataid             localminute   grid  solar\n",
       "0          661  2018-07-05 07:33:00-05  0.596  0.020\n",
       "1          661  2018-07-06 07:03:00-05  0.563  0.008\n",
       "2          661  2018-07-06 07:04:00-05  0.559  0.013\n",
       "3          661  2018-07-06 07:07:00-05  0.544  0.028\n",
       "4          661  2018-07-06 07:06:00-05  0.549  0.023\n",
       "...        ...                     ...    ...    ...\n",
       "191515    9278  2018-07-10 23:55:00-05  3.805 -0.006\n",
       "191516    9278  2018-07-10 23:56:00-05  1.420 -0.003\n",
       "191517    9278  2018-07-10 23:57:00-05  1.406 -0.003\n",
       "191518    9278  2018-07-10 23:58:00-05  2.025 -0.003\n",
       "191519    9278  2018-07-10 23:59:00-05  4.325 -0.006\n",
       "\n",
       "[191520 rows x 4 columns]"
      ]
     },
     "execution_count": 43,
     "metadata": {},
     "output_type": "execute_result"
    }
   ],
   "source": [
    "# execute the SQL query and put it into a Pandas dataframe\n",
    "df_july = pd.read_sql_query(query_july, elec_conn)\n",
    "# print out the dataframe\n",
    "df_july"
   ]
  },
  {
   "cell_type": "code",
   "execution_count": 44,
   "id": "assumed-tennessee",
   "metadata": {},
   "outputs": [
    {
     "data": {
      "text/plain": [
       "95430.53700000003"
      ]
     },
     "execution_count": 44,
     "metadata": {},
     "output_type": "execute_result"
    }
   ],
   "source": [
    "# sum up solar for January\n",
    "sum_jan = df_jan['solar'].sum()\n",
    "sum_jan"
   ]
  },
  {
   "cell_type": "code",
   "execution_count": 45,
   "id": "surprising-decimal",
   "metadata": {},
   "outputs": [
    {
     "data": {
      "text/plain": [
       "151911.399"
      ]
     },
     "execution_count": 45,
     "metadata": {},
     "output_type": "execute_result"
    }
   ],
   "source": [
    "# sum up solar for July\n",
    "sum_july = df_july['solar'].sum()\n",
    "sum_july"
   ]
  },
  {
   "cell_type": "code",
   "execution_count": 46,
   "id": "alpine-operation",
   "metadata": {},
   "outputs": [
    {
     "data": {
      "text/plain": [
       "59.18531297796215"
      ]
     },
     "execution_count": 46,
     "metadata": {},
     "output_type": "execute_result"
    }
   ],
   "source": [
    "diff = sum_july - sum_jan\n",
    "perc = diff / sum_jan\n",
    "perc * 100"
   ]
  },
  {
   "cell_type": "code",
   "execution_count": 47,
   "id": "found-commons",
   "metadata": {},
   "outputs": [],
   "source": [
    "# convert localminute to pandas datetime type\n",
    "df_july['datetime'] = pd.to_datetime(df_july['localminute'])\n",
    "df_jan['datetime'] = pd.to_datetime(df_jan['localminute'])\n",
    "\n",
    "# set index\n",
    "df_july = df_july.set_index('datetime')\n",
    "df_jan = df_jan.set_index('datetime')"
   ]
  },
  {
   "cell_type": "code",
   "execution_count": 48,
   "id": "intended-reception",
   "metadata": {},
   "outputs": [
    {
     "data": {
      "text/html": [
       "<div>\n",
       "<style scoped>\n",
       "    .dataframe tbody tr th:only-of-type {\n",
       "        vertical-align: middle;\n",
       "    }\n",
       "\n",
       "    .dataframe tbody tr th {\n",
       "        vertical-align: top;\n",
       "    }\n",
       "\n",
       "    .dataframe thead th {\n",
       "        text-align: right;\n",
       "    }\n",
       "</style>\n",
       "<table border=\"1\" class=\"dataframe\">\n",
       "  <thead>\n",
       "    <tr style=\"text-align: right;\">\n",
       "      <th></th>\n",
       "      <th>dataid</th>\n",
       "      <th>grid</th>\n",
       "      <th>solar</th>\n",
       "    </tr>\n",
       "    <tr>\n",
       "      <th>datetime</th>\n",
       "      <th></th>\n",
       "      <th></th>\n",
       "      <th></th>\n",
       "    </tr>\n",
       "  </thead>\n",
       "  <tbody>\n",
       "    <tr>\n",
       "      <th>2018-01-01 00:00:00-06:00</th>\n",
       "      <td>136463364</td>\n",
       "      <td>30315.658</td>\n",
       "      <td>9324.994</td>\n",
       "    </tr>\n",
       "    <tr>\n",
       "      <th>2018-01-02 00:00:00-06:00</th>\n",
       "      <td>140872320</td>\n",
       "      <td>34470.321</td>\n",
       "      <td>4492.697</td>\n",
       "    </tr>\n",
       "    <tr>\n",
       "      <th>2018-01-03 00:00:00-06:00</th>\n",
       "      <td>140872320</td>\n",
       "      <td>9953.600</td>\n",
       "      <td>24254.271</td>\n",
       "    </tr>\n",
       "    <tr>\n",
       "      <th>2018-01-04 00:00:00-06:00</th>\n",
       "      <td>140872320</td>\n",
       "      <td>8777.170</td>\n",
       "      <td>18445.470</td>\n",
       "    </tr>\n",
       "    <tr>\n",
       "      <th>2018-01-05 00:00:00-06:00</th>\n",
       "      <td>140872320</td>\n",
       "      <td>4643.659</td>\n",
       "      <td>21932.572</td>\n",
       "    </tr>\n",
       "    <tr>\n",
       "      <th>2018-01-06 00:00:00-06:00</th>\n",
       "      <td>140872320</td>\n",
       "      <td>13254.199</td>\n",
       "      <td>13187.776</td>\n",
       "    </tr>\n",
       "    <tr>\n",
       "      <th>2018-01-07 00:00:00-06:00</th>\n",
       "      <td>140872320</td>\n",
       "      <td>20556.232</td>\n",
       "      <td>3792.757</td>\n",
       "    </tr>\n",
       "  </tbody>\n",
       "</table>\n",
       "</div>"
      ],
      "text/plain": [
       "                              dataid       grid      solar\n",
       "datetime                                                  \n",
       "2018-01-01 00:00:00-06:00  136463364  30315.658   9324.994\n",
       "2018-01-02 00:00:00-06:00  140872320  34470.321   4492.697\n",
       "2018-01-03 00:00:00-06:00  140872320   9953.600  24254.271\n",
       "2018-01-04 00:00:00-06:00  140872320   8777.170  18445.470\n",
       "2018-01-05 00:00:00-06:00  140872320   4643.659  21932.572\n",
       "2018-01-06 00:00:00-06:00  140872320  13254.199  13187.776\n",
       "2018-01-07 00:00:00-06:00  140872320  20556.232   3792.757"
      ]
     },
     "execution_count": 48,
     "metadata": {},
     "output_type": "execute_result"
    }
   ],
   "source": [
    "# group by day and take the sum per day\n",
    "group_jan = df_jan.groupby(pd.Grouper(freq='D')).sum()\n",
    "group_jan"
   ]
  },
  {
   "cell_type": "code",
   "execution_count": 49,
   "id": "oriental-ozone",
   "metadata": {},
   "outputs": [
    {
     "data": {
      "text/html": [
       "<div>\n",
       "<style scoped>\n",
       "    .dataframe tbody tr th:only-of-type {\n",
       "        vertical-align: middle;\n",
       "    }\n",
       "\n",
       "    .dataframe tbody tr th {\n",
       "        vertical-align: top;\n",
       "    }\n",
       "\n",
       "    .dataframe thead th {\n",
       "        text-align: right;\n",
       "    }\n",
       "</style>\n",
       "<table border=\"1\" class=\"dataframe\">\n",
       "  <thead>\n",
       "    <tr style=\"text-align: right;\">\n",
       "      <th></th>\n",
       "      <th>dataid</th>\n",
       "      <th>grid</th>\n",
       "      <th>solar</th>\n",
       "    </tr>\n",
       "    <tr>\n",
       "      <th>datetime</th>\n",
       "      <th></th>\n",
       "      <th></th>\n",
       "      <th></th>\n",
       "    </tr>\n",
       "  </thead>\n",
       "  <tbody>\n",
       "    <tr>\n",
       "      <th>2018-07-04 00:00:00-05:00</th>\n",
       "      <td>140872320</td>\n",
       "      <td>41621.314</td>\n",
       "      <td>12522.098</td>\n",
       "    </tr>\n",
       "    <tr>\n",
       "      <th>2018-07-05 00:00:00-05:00</th>\n",
       "      <td>140872320</td>\n",
       "      <td>22020.976</td>\n",
       "      <td>29538.169</td>\n",
       "    </tr>\n",
       "    <tr>\n",
       "      <th>2018-07-06 00:00:00-05:00</th>\n",
       "      <td>140872320</td>\n",
       "      <td>43229.412</td>\n",
       "      <td>27304.556</td>\n",
       "    </tr>\n",
       "    <tr>\n",
       "      <th>2018-07-07 00:00:00-05:00</th>\n",
       "      <td>140872320</td>\n",
       "      <td>36482.976</td>\n",
       "      <td>20625.208</td>\n",
       "    </tr>\n",
       "    <tr>\n",
       "      <th>2018-07-08 00:00:00-05:00</th>\n",
       "      <td>140872320</td>\n",
       "      <td>33011.891</td>\n",
       "      <td>25713.398</td>\n",
       "    </tr>\n",
       "    <tr>\n",
       "      <th>2018-07-09 00:00:00-05:00</th>\n",
       "      <td>140872320</td>\n",
       "      <td>32738.361</td>\n",
       "      <td>7220.602</td>\n",
       "    </tr>\n",
       "    <tr>\n",
       "      <th>2018-07-10 00:00:00-05:00</th>\n",
       "      <td>140872320</td>\n",
       "      <td>24440.576</td>\n",
       "      <td>28987.368</td>\n",
       "    </tr>\n",
       "  </tbody>\n",
       "</table>\n",
       "</div>"
      ],
      "text/plain": [
       "                              dataid       grid      solar\n",
       "datetime                                                  \n",
       "2018-07-04 00:00:00-05:00  140872320  41621.314  12522.098\n",
       "2018-07-05 00:00:00-05:00  140872320  22020.976  29538.169\n",
       "2018-07-06 00:00:00-05:00  140872320  43229.412  27304.556\n",
       "2018-07-07 00:00:00-05:00  140872320  36482.976  20625.208\n",
       "2018-07-08 00:00:00-05:00  140872320  33011.891  25713.398\n",
       "2018-07-09 00:00:00-05:00  140872320  32738.361   7220.602\n",
       "2018-07-10 00:00:00-05:00  140872320  24440.576  28987.368"
      ]
     },
     "execution_count": 49,
     "metadata": {},
     "output_type": "execute_result"
    }
   ],
   "source": [
    "# group by day and take the sum per day\n",
    "group_july = df_july.groupby(pd.Grouper(freq='D')).sum()\n",
    "group_july"
   ]
  },
  {
   "cell_type": "code",
   "execution_count": 58,
   "id": "small-richmond",
   "metadata": {},
   "outputs": [
    {
     "data": {
      "text/plain": [
       "(0.0, 30000.0)"
      ]
     },
     "execution_count": 58,
     "metadata": {},
     "output_type": "execute_result"
    },
    {
     "data": {
      "image/png": "[encoded data removed]",
      "text/plain": [
       "<Figure size 432x288 with 1 Axes>"
      ]
     },
     "metadata": {
      "needs_background": "light"
     },
     "output_type": "display_data"
    },
    {
     "data": {
      "image/png": "[encoded data removed]",
      "text/plain": [
       "<Figure size 432x288 with 1 Axes>"
      ]
     },
     "metadata": {
      "needs_background": "light"
     },
     "output_type": "display_data"
    }
   ],
   "source": [
    "# plot solar setting the max y value to 30k for both\n",
    "ax1 = group_jan.plot.bar(y='solar', title='January 1-7')\n",
    "ax1.set_ylim(0, 30000)\n",
    "\n",
    "ax2 = group_july.plot.bar(y='solar', title='July 4-10')\n",
    "ax2.set_ylim(0, 30000)"
   ]
  },
  {
   "cell_type": "code",
   "execution_count": 69,
   "id": "promising-cambridge",
   "metadata": {},
   "outputs": [
    {
     "data": {
      "text/plain": [
       "{'January': [9324.99400000043,\n",
       "  4492.697000000248,\n",
       "  24254.27099999551,\n",
       "  18445.46999999589,\n",
       "  21932.57199999548,\n",
       "  13187.775999999796,\n",
       "  3792.757000000085],\n",
       " 'July': [12522.098000000016,\n",
       "  29538.168999998114,\n",
       "  27304.555999997985,\n",
       "  20625.207999997885,\n",
       "  25713.39799999763,\n",
       "  7220.602000000205,\n",
       "  28987.36799999779]}"
      ]
     },
     "execution_count": 69,
     "metadata": {},
     "output_type": "execute_result"
    }
   ],
   "source": [
    "# create a python dictionary with the values from both Jan and July\n",
    "days_data = {'January':  group_jan['solar'].to_list(), 'July': group_july['solar'].to_list()}\n",
    "days_data"
   ]
  },
  {
   "cell_type": "code",
   "execution_count": 70,
   "id": "tribal-myanmar",
   "metadata": {},
   "outputs": [
    {
     "data": {
      "text/html": [
       "<div>\n",
       "<style scoped>\n",
       "    .dataframe tbody tr th:only-of-type {\n",
       "        vertical-align: middle;\n",
       "    }\n",
       "\n",
       "    .dataframe tbody tr th {\n",
       "        vertical-align: top;\n",
       "    }\n",
       "\n",
       "    .dataframe thead th {\n",
       "        text-align: right;\n",
       "    }\n",
       "</style>\n",
       "<table border=\"1\" class=\"dataframe\">\n",
       "  <thead>\n",
       "    <tr style=\"text-align: right;\">\n",
       "      <th></th>\n",
       "      <th>January</th>\n",
       "      <th>July</th>\n",
       "    </tr>\n",
       "  </thead>\n",
       "  <tbody>\n",
       "    <tr>\n",
       "      <th>0</th>\n",
       "      <td>9324.994</td>\n",
       "      <td>12522.098</td>\n",
       "    </tr>\n",
       "    <tr>\n",
       "      <th>1</th>\n",
       "      <td>4492.697</td>\n",
       "      <td>29538.169</td>\n",
       "    </tr>\n",
       "    <tr>\n",
       "      <th>2</th>\n",
       "      <td>24254.271</td>\n",
       "      <td>27304.556</td>\n",
       "    </tr>\n",
       "    <tr>\n",
       "      <th>3</th>\n",
       "      <td>18445.470</td>\n",
       "      <td>20625.208</td>\n",
       "    </tr>\n",
       "    <tr>\n",
       "      <th>4</th>\n",
       "      <td>21932.572</td>\n",
       "      <td>25713.398</td>\n",
       "    </tr>\n",
       "    <tr>\n",
       "      <th>5</th>\n",
       "      <td>13187.776</td>\n",
       "      <td>7220.602</td>\n",
       "    </tr>\n",
       "    <tr>\n",
       "      <th>6</th>\n",
       "      <td>3792.757</td>\n",
       "      <td>28987.368</td>\n",
       "    </tr>\n",
       "  </tbody>\n",
       "</table>\n",
       "</div>"
      ],
      "text/plain": [
       "     January       July\n",
       "0   9324.994  12522.098\n",
       "1   4492.697  29538.169\n",
       "2  24254.271  27304.556\n",
       "3  18445.470  20625.208\n",
       "4  21932.572  25713.398\n",
       "5  13187.776   7220.602\n",
       "6   3792.757  28987.368"
      ]
     },
     "execution_count": 70,
     "metadata": {},
     "output_type": "execute_result"
    }
   ],
   "source": [
    "# create new dataframe with that dictionary\n",
    "days_df = pd.DataFrame(days_data)\n",
    "days_df"
   ]
  },
  {
   "cell_type": "code",
   "execution_count": 71,
   "id": "conservative-horse",
   "metadata": {},
   "outputs": [
    {
     "data": {
      "text/plain": [
       "<matplotlib.axes._subplots.AxesSubplot at 0x7fca5d42b130>"
      ]
     },
     "execution_count": 71,
     "metadata": {},
     "output_type": "execute_result"
    },
    {
     "data": {
      "image/png": "[encoded data removed]",
      "text/plain": [
       "<Figure size 432x288 with 1 Axes>"
      ]
     },
     "metadata": {
      "needs_background": "light"
     },
     "output_type": "display_data"
    }
   ],
   "source": [
    "# plot them together\n",
    "days_df.plot.bar()"
   ]
  },
  {
   "cell_type": "code",
   "execution_count": null,
   "id": "concrete-retention",
   "metadata": {},
   "outputs": [],
   "source": []
  }
 ],
 "metadata": {
  "kernelspec": {
   "display_name": "Python 3 (ipykernel)",
   "language": "python",
   "name": "python3"
  },
  "language_info": {
   "codemirror_mode": {
    "name": "ipython",
    "version": 3
   },
   "file_extension": ".py",
   "mimetype": "text/x-python",
   "name": "python",
   "nbconvert_exporter": "python",
   "pygments_lexer": "ipython3",
   "version": "3.12.4"
  }
 },
 "nbformat": 4,
 "nbformat_minor": 5
}
